{
 "cells": [
  {
   "cell_type": "markdown",
   "metadata": {},
   "source": [
    "# Desafio 5\n",
    "\n",
    "Neste desafio, vamos praticar sobre redução de dimensionalidade com PCA e seleção de variáveis com RFE. Utilizaremos o _data set_ [Fifa 2019](https://www.kaggle.com/karangadiya/fifa19), contendo originalmente 89 variáveis de mais de 18 mil jogadores do _game_ FIFA 2019.\n",
    "\n",
    "> Obs.: Por favor, não modifique o nome das funções de resposta."
   ]
  },
  {
   "cell_type": "markdown",
   "metadata": {},
   "source": [
    "## _Setup_ geral"
   ]
  },
  {
   "cell_type": "code",
   "execution_count": 1,
   "metadata": {},
   "outputs": [],
   "source": [
    "from math import sqrt\n",
    "\n",
    "import pandas as pd\n",
    "import matplotlib.pyplot as plt\n",
    "import numpy as np\n",
    "import scipy.stats as sct\n",
    "import seaborn as sns\n",
    "import statsmodels.api as sm\n",
    "import statsmodels.stats as st\n",
    "from sklearn.decomposition import PCA\n",
    "from sklearn.feature_selection import RFE\n",
    "from sklearn.model_selection import train_test_split\n",
    "from yellowbrick.model_selection import RFECV\n",
    "from sklearn.linear_model import LinearRegression\n",
    "from loguru import logger"
   ]
  },
  {
   "cell_type": "code",
   "execution_count": 2,
   "metadata": {},
   "outputs": [],
   "source": [
    "# Algumas configurações para o matplotlib.\n",
    "#%matplotlib inline\n",
    "\n",
    "from IPython.core.pylabtools import figsize\n",
    "\n",
    "\n",
    "figsize(12, 8)\n",
    "\n",
    "sns.set()"
   ]
  },
  {
   "cell_type": "code",
   "execution_count": 3,
   "metadata": {
    "scrolled": false
   },
   "outputs": [],
   "source": [
    "fifa = pd.read_csv(\"data/fifa.csv\")"
   ]
  },
  {
   "cell_type": "code",
   "execution_count": 4,
   "metadata": {},
   "outputs": [],
   "source": [
    "columns_to_drop = [\"Unnamed: 0\", \"ID\", \"Name\", \"Photo\", \"Nationality\", \"Flag\",\n",
    "                   \"Club\", \"Club Logo\", \"Value\", \"Wage\", \"Special\", \"Preferred Foot\",\n",
    "                   \"International Reputation\", \"Weak Foot\", \"Skill Moves\", \"Work Rate\",\n",
    "                   \"Body Type\", \"Real Face\", \"Position\", \"Jersey Number\", \"Joined\",\n",
    "                   \"Loaned From\", \"Contract Valid Until\", \"Height\", \"Weight\", \"LS\",\n",
    "                   \"ST\", \"RS\", \"LW\", \"LF\", \"CF\", \"RF\", \"RW\", \"LAM\", \"CAM\", \"RAM\", \"LM\",\n",
    "                   \"LCM\", \"CM\", \"RCM\", \"RM\", \"LWB\", \"LDM\", \"CDM\", \"RDM\", \"RWB\", \"LB\", \"LCB\",\n",
    "                   \"CB\", \"RCB\", \"RB\", \"Release Clause\"\n",
    "]\n",
    "\n",
    "try:\n",
    "    fifa.drop(columns_to_drop, axis=1, inplace=True)\n",
    "except KeyError:\n",
    "    logger.warning(f\"Columns already dropped\")"
   ]
  },
  {
   "cell_type": "markdown",
   "metadata": {},
   "source": [
    "## Inicia sua análise a partir daqui"
   ]
  },
  {
   "cell_type": "code",
   "execution_count": 5,
   "metadata": {},
   "outputs": [],
   "source": [
    "fifa.dropna(inplace=True)"
   ]
  },
  {
   "cell_type": "markdown",
   "metadata": {},
   "source": [
    "## Questão 1\n",
    "\n",
    "Qual fração da variância consegue ser explicada pelo primeiro componente principal de `fifa`? Responda como um único float (entre 0 e 1) arredondado para três casas decimais."
   ]
  },
  {
   "cell_type": "code",
   "execution_count": 28,
   "metadata": {},
   "outputs": [
    {
     "data": {
      "text/plain": [
       "0.565"
      ]
     },
     "execution_count": 28,
     "metadata": {},
     "output_type": "execute_result"
    }
   ],
   "source": [
    "def q1():\n",
    "    pca = PCA(n_components=1)\n",
    "    projeto = pca.fit_transform(fifa)\n",
    "    evr = pca.explained_variance_ratio_\n",
    "\n",
    "    return round(evr[0],3)\n",
    "\n",
    "q1()"
   ]
  },
  {
   "cell_type": "markdown",
   "metadata": {},
   "source": [
    "## Questão 2\n",
    "\n",
    "Quantos componentes principais precisamos para explicar 95% da variância total? Responda como un único escalar inteiro."
   ]
  },
  {
   "cell_type": "code",
   "execution_count": 7,
   "metadata": {},
   "outputs": [
    {
     "data": {
      "text/plain": [
       "15"
      ]
     },
     "execution_count": 7,
     "metadata": {},
     "output_type": "execute_result"
    }
   ],
   "source": [
    "def q2():\n",
    "    pca = PCA(n_components=0.95)\n",
    "    projeto = pca.fit_transform(fifa)\n",
    "    \n",
    "    return projeto.shape[1]\n",
    "\n",
    "q2()"
   ]
  },
  {
   "cell_type": "markdown",
   "metadata": {},
   "source": [
    "## Questão 3\n",
    "\n",
    "Qual são as coordenadas (primeiro e segundo componentes principais) do ponto `x` abaixo? O vetor abaixo já está centralizado. Cuidado para __não__ centralizar o vetor novamente (por exemplo, invocando `PCA.transform()` nele). Responda como uma tupla de float arredondados para três casas decimais."
   ]
  },
  {
   "cell_type": "code",
   "execution_count": 30,
   "metadata": {},
   "outputs": [],
   "source": [
    "x = [0.87747123,  -1.24990363,  -1.3191255, -36.7341814,\n",
    "     -35.55091139, -37.29814417, -28.68671182, -30.90902583,\n",
    "     -42.37100061, -32.17082438, -28.86315326, -22.71193348,\n",
    "     -38.36945867, -20.61407566, -22.72696734, -25.50360703,\n",
    "     2.16339005, -27.96657305, -33.46004736,  -5.08943224,\n",
    "     -30.21994603,   3.68803348, -36.10997302, -30.86899058,\n",
    "     -22.69827634, -37.95847789, -22.40090313, -30.54859849,\n",
    "     -26.64827358, -19.28162344, -34.69783578, -34.6614351,\n",
    "     48.38377664,  47.60840355,  45.76793876,  44.61110193,\n",
    "     49.28911284\n",
    "]"
   ]
  },
  {
   "cell_type": "markdown",
   "metadata": {},
   "source": [
    "(186.556, -6.592)"
   ]
  },
  {
   "cell_type": "code",
   "execution_count": 35,
   "metadata": {
    "scrolled": true
   },
   "outputs": [
    {
     "data": {
      "text/plain": [
       "array([  0.87747123,  -1.24990363,  -1.3191255 , -36.7341814 ,\n",
       "       -35.55091139, -37.29814417, -28.68671182, -30.90902583,\n",
       "       -42.37100061, -32.17082438, -28.86315326, -22.71193348,\n",
       "       -38.36945867, -20.61407566, -22.72696734, -25.50360703,\n",
       "         2.16339005, -27.96657305, -33.46004736,  -5.08943224,\n",
       "       -30.21994603,   3.68803348, -36.10997302, -30.86899058,\n",
       "       -22.69827634, -37.95847789, -22.40090313, -30.54859849,\n",
       "       -26.64827358, -19.28162344, -34.69783578, -34.6614351 ,\n",
       "        48.38377664,  47.60840355,  45.76793876,  44.61110193,\n",
       "        49.28911284])"
      ]
     },
     "execution_count": 35,
     "metadata": {},
     "output_type": "execute_result"
    }
   ],
   "source": [
    "vector_x = np.array(x)\n",
    "type(vector_x)\n",
    "vector_x"
   ]
  },
  {
   "cell_type": "code",
   "execution_count": 47,
   "metadata": {},
   "outputs": [],
   "source": [
    "principalComponents = pca.fit_transform(vector_x.reshape(-1, 1))"
   ]
  },
  {
   "cell_type": "code",
   "execution_count": 62,
   "metadata": {},
   "outputs": [],
   "source": [
    "pca = PCA(n_components=1)\n",
    "projeto = pca.fit_transform(vector_x.reshape(-1, 1))"
   ]
  },
  {
   "cell_type": "code",
   "execution_count": 68,
   "metadata": {},
   "outputs": [
    {
     "data": {
      "text/plain": [
       "PCA(copy=True, iterated_power='auto', n_components=1, random_state=None,\n",
       "  svd_solver='auto', tol=0.0, whiten=False)"
      ]
     },
     "execution_count": 68,
     "metadata": {},
     "output_type": "execute_result"
    }
   ],
   "source": [
    "pca = PCA(n_components=1)\n",
    "vector_x = np.array(x)\n",
    "type(vector_x)\n",
    "\n",
    "pca.fit(vector_x.reshape(-1, 1))"
   ]
  },
  {
   "cell_type": "code",
   "execution_count": 81,
   "metadata": {},
   "outputs": [
    {
     "name": "stdout",
     "output_type": "stream",
     "text": [
      "original shape:    (200, 2)\n",
      "transformed shape: (200, 1)\n"
     ]
    }
   ],
   "source": [
    "rng = np.random.RandomState(1)\n",
    "X = np.dot(rng.rand(2, 2), rng.randn(2, 200)).T\n",
    "pca = PCA(n_components=1)\n",
    "pca.fit(X)\n",
    "X_pca = pca.transform(X)\n",
    "print(\"original shape:   \", X.shape)\n",
    "print(\"transformed shape:\", X_pca.shape)"
   ]
  },
  {
   "cell_type": "code",
   "execution_count": 85,
   "metadata": {},
   "outputs": [
    {
     "data": {
      "text/plain": [
       "array([[ 6.76769235e-01],\n",
       "       [-1.07121393e+00],\n",
       "       [ 7.27912364e-01],\n",
       "       [ 2.30964136e+00],\n",
       "       [ 6.30052323e-01],\n",
       "       [ 1.02448887e+00],\n",
       "       [ 7.77183507e-01],\n",
       "       [-1.39656414e+00],\n",
       "       [-2.91049874e-01],\n",
       "       [ 1.88864221e+00],\n",
       "       [-7.11544293e-01],\n",
       "       [ 6.38884130e-01],\n",
       "       [ 5.48059617e-01],\n",
       "       [-2.19312436e-01],\n",
       "       [-3.87789490e-01],\n",
       "       [ 7.15219956e-01],\n",
       "       [-1.08373816e+00],\n",
       "       [-2.99917403e-01],\n",
       "       [-7.96849021e-01],\n",
       "       [-8.12568346e-01],\n",
       "       [-1.54018281e+00],\n",
       "       [-2.52920476e-01],\n",
       "       [ 6.26464454e-01],\n",
       "       [-1.61007571e+00],\n",
       "       [ 5.04240563e-01],\n",
       "       [ 5.53935753e-01],\n",
       "       [ 6.81911252e-01],\n",
       "       [-2.00157228e-02],\n",
       "       [ 1.13550833e-01],\n",
       "       [ 2.92286085e-02],\n",
       "       [-2.14393483e-01],\n",
       "       [-1.03406124e+00],\n",
       "       [ 3.88635004e-01],\n",
       "       [ 9.96727811e-01],\n",
       "       [ 1.39223653e+00],\n",
       "       [ 4.57043694e-01],\n",
       "       [ 6.81839901e-01],\n",
       "       [-9.05233246e-01],\n",
       "       [ 4.94316334e-01],\n",
       "       [ 6.22411280e-01],\n",
       "       [ 3.26088548e-01],\n",
       "       [ 4.52560386e-01],\n",
       "       [ 6.81840663e-01],\n",
       "       [-2.44832816e-01],\n",
       "       [-5.27149562e-01],\n",
       "       [-4.51448737e-01],\n",
       "       [-1.42864453e+00],\n",
       "       [ 8.05233004e-01],\n",
       "       [ 1.81049742e-01],\n",
       "       [ 3.49039347e-01],\n",
       "       [ 2.65803583e+00],\n",
       "       [-1.34272221e+00],\n",
       "       [-1.73026340e-01],\n",
       "       [ 6.13676729e-01],\n",
       "       [-1.89940741e+00],\n",
       "       [-7.93074429e-01],\n",
       "       [-4.17072486e-01],\n",
       "       [ 1.54913526e-01],\n",
       "       [ 2.44646603e-01],\n",
       "       [ 7.26337140e-01],\n",
       "       [-7.91592424e-01],\n",
       "       [ 4.39666794e-01],\n",
       "       [-2.66630687e-01],\n",
       "       [-8.77131636e-01],\n",
       "       [-6.37447634e-01],\n",
       "       [-7.72982393e-01],\n",
       "       [-1.04616382e+00],\n",
       "       [ 1.15209837e+00],\n",
       "       [-5.26661400e-02],\n",
       "       [-9.74296354e-01],\n",
       "       [-6.24348505e-01],\n",
       "       [-1.00475074e+00],\n",
       "       [ 5.89973268e-01],\n",
       "       [ 1.50344054e+00],\n",
       "       [ 1.27433349e+00],\n",
       "       [-1.25658172e+00],\n",
       "       [ 1.37852445e-01],\n",
       "       [-1.36126475e+00],\n",
       "       [ 7.27518820e-01],\n",
       "       [ 4.50501231e-01],\n",
       "       [-1.17577071e-01],\n",
       "       [-8.49638130e-01],\n",
       "       [-9.51657336e-02],\n",
       "       [-1.81175961e-01],\n",
       "       [ 2.81596080e-01],\n",
       "       [-2.56560634e-01],\n",
       "       [ 8.52804745e-01],\n",
       "       [-4.77688980e-01],\n",
       "       [-2.96471868e-01],\n",
       "       [ 1.68108524e-03],\n",
       "       [-2.05727542e-01],\n",
       "       [ 8.12610001e-01],\n",
       "       [-7.06157363e-02],\n",
       "       [ 2.31690062e-01],\n",
       "       [-1.59605923e-01],\n",
       "       [-5.98727081e-01],\n",
       "       [ 1.01944512e+00],\n",
       "       [-7.01462226e-01],\n",
       "       [-1.40420099e+00],\n",
       "       [ 6.94997907e-01],\n",
       "       [ 5.18636606e-01],\n",
       "       [ 4.83061626e-01],\n",
       "       [ 6.79198052e-01],\n",
       "       [-1.30170017e+00],\n",
       "       [-2.71805220e-01],\n",
       "       [ 9.47603686e-01],\n",
       "       [-3.49630397e-01],\n",
       "       [ 4.85113462e-01],\n",
       "       [-3.04715098e-01],\n",
       "       [-3.31839520e-01],\n",
       "       [-1.38578436e+00],\n",
       "       [ 8.84502948e-01],\n",
       "       [-2.47084475e+00],\n",
       "       [-9.56899804e-02],\n",
       "       [-4.64806358e-01],\n",
       "       [ 7.06669625e-01],\n",
       "       [ 1.54312708e-01],\n",
       "       [ 5.45819213e-01],\n",
       "       [ 1.46023727e-01],\n",
       "       [ 9.57253276e-01],\n",
       "       [-6.91815248e-01],\n",
       "       [-1.00443516e-01],\n",
       "       [ 2.77924488e-01],\n",
       "       [-1.20207491e+00],\n",
       "       [-6.04953108e-02],\n",
       "       [-1.03273685e+00],\n",
       "       [ 6.88215760e-01],\n",
       "       [-1.21050656e+00],\n",
       "       [-2.40052449e-01],\n",
       "       [-6.06855334e-01],\n",
       "       [ 1.29217575e+00],\n",
       "       [-1.03282074e-01],\n",
       "       [-1.41361475e+00],\n",
       "       [ 7.57783205e-01],\n",
       "       [ 1.41360423e+00],\n",
       "       [ 1.99564613e+00],\n",
       "       [ 1.66865955e+00],\n",
       "       [ 1.66032125e+00],\n",
       "       [ 4.24742508e-01],\n",
       "       [-9.26445715e-01],\n",
       "       [ 3.28504629e-02],\n",
       "       [-5.17521702e-01],\n",
       "       [-9.24887775e-02],\n",
       "       [-3.05962249e-02],\n",
       "       [ 1.30795754e-01],\n",
       "       [-7.74659629e-02],\n",
       "       [-4.20826569e-01],\n",
       "       [ 6.78334448e-01],\n",
       "       [-6.35104074e-01],\n",
       "       [ 2.72075594e-01],\n",
       "       [-2.26801066e-01],\n",
       "       [-1.45908094e+00],\n",
       "       [ 4.03275391e-01],\n",
       "       [ 4.88618199e-01],\n",
       "       [-3.77797862e-02],\n",
       "       [ 2.25514691e-01],\n",
       "       [ 3.73320407e-01],\n",
       "       [ 9.96559672e-01],\n",
       "       [ 6.68655132e-01],\n",
       "       [-3.09207055e-01],\n",
       "       [ 1.44746288e+00],\n",
       "       [-1.27674147e-01],\n",
       "       [ 1.95898129e-02],\n",
       "       [-4.68331172e-01],\n",
       "       [-7.59794861e-01],\n",
       "       [ 2.11566325e+00],\n",
       "       [-1.28843614e+00],\n",
       "       [ 5.24455206e-01],\n",
       "       [ 2.68082969e-01],\n",
       "       [ 4.06271559e-02],\n",
       "       [-1.63087335e+00],\n",
       "       [ 4.50273668e-01],\n",
       "       [-1.41736985e+00],\n",
       "       [-3.20579341e-01],\n",
       "       [-2.16095416e+00],\n",
       "       [ 7.55938440e-01],\n",
       "       [ 1.13147728e+00],\n",
       "       [-4.01022769e-01],\n",
       "       [-1.33261395e-01],\n",
       "       [-1.20765775e-01],\n",
       "       [ 1.03185993e+00],\n",
       "       [-1.29878689e-01],\n",
       "       [-4.08011754e-01],\n",
       "       [ 4.17084437e-01],\n",
       "       [-1.00930809e-01],\n",
       "       [ 7.22839507e-02],\n",
       "       [ 6.47903117e-01],\n",
       "       [ 4.74689466e-01],\n",
       "       [ 6.85499472e-01],\n",
       "       [-1.49366216e+00],\n",
       "       [-3.49297457e-01],\n",
       "       [-7.79713261e-01],\n",
       "       [ 5.67446775e-01],\n",
       "       [ 5.18831382e-02],\n",
       "       [ 1.25350822e+00],\n",
       "       [-8.53016941e-01],\n",
       "       [-2.61547685e-01],\n",
       "       [-2.02667441e+00],\n",
       "       [ 1.20688282e+00],\n",
       "       [-3.53816725e-01]])"
      ]
     },
     "execution_count": 85,
     "metadata": {},
     "output_type": "execute_result"
    }
   ],
   "source": [
    "X_pca"
   ]
  },
  {
   "cell_type": "code",
   "execution_count": 82,
   "metadata": {},
   "outputs": [],
   "source": [
    "X_new = pca.inverse_transform(X_pca)"
   ]
  },
  {
   "cell_type": "code",
   "execution_count": 83,
   "metadata": {},
   "outputs": [
    {
     "data": {
      "text/plain": [
       "array([[-0.60566999, -0.22648439],\n",
       "       [ 1.0452307 ,  0.34794757],\n",
       "       [-0.65397264, -0.24329133],\n",
       "       [-2.14785286, -0.76308793],\n",
       "       [-0.56154772, -0.21113202],\n",
       "       [-0.93407737, -0.34075396],\n",
       "       [-0.70050728, -0.25948309],\n",
       "       [ 1.35251105,  0.45486597],\n",
       "       [ 0.30839673,  0.09156571],\n",
       "       [-1.75023588, -0.62473684],\n",
       "       [ 0.70553701,  0.22975093],\n",
       "       [-0.56988901, -0.21403438],\n",
       "       [-0.48410886, -0.18418712],\n",
       "       [ 0.24064357,  0.06799096],\n",
       "       [ 0.39976345,  0.12335682],\n",
       "       [-0.64198517, -0.23912028],\n",
       "       [ 1.05705933,  0.35206335],\n",
       "       [ 0.31677176,  0.09447981],\n",
       "       [ 0.78610394,  0.25778425],\n",
       "       [ 0.80095021,  0.26295002],\n",
       "       [ 1.48815318,  0.50206274],\n",
       "       [ 0.27238503,  0.07903542],\n",
       "       [-0.55815912, -0.20995296],\n",
       "       [ 1.55416425,  0.52503133],\n",
       "       [-0.44272351, -0.16978706],\n",
       "       [-0.48965864, -0.18611817],\n",
       "       [-0.61052642, -0.22817419],\n",
       "       [ 0.05241574,  0.00249696],\n",
       "       [-0.07373257, -0.04139642],\n",
       "       [ 0.00590642, -0.01368599],\n",
       "       [ 0.23599781,  0.06637446],\n",
       "       [ 1.01014146,  0.33573825],\n",
       "       [-0.33353865, -0.13179612],\n",
       "       [-0.90785815, -0.33163096],\n",
       "       [-1.28140043, -0.46160524],\n",
       "       [-0.39814794, -0.15427696],\n",
       "       [-0.61045903, -0.22815074],\n",
       "       [ 0.88846853,  0.29340207],\n",
       "       [-0.43335047, -0.16652571],\n",
       "       [-0.55433106, -0.20862098],\n",
       "       [-0.274466  , -0.11124175],\n",
       "       [-0.39391363, -0.15280363],\n",
       "       [-0.61045975, -0.22815099],\n",
       "       [ 0.26474655,  0.07637761],\n",
       "       [ 0.53138351,  0.16915411],\n",
       "       [ 0.45988708,  0.14427688],\n",
       "       [ 1.3828097 ,  0.46540841],\n",
       "       [-0.72699891, -0.26870087],\n",
       "       [-0.13748261, -0.06357829],\n",
       "       [-0.29614212, -0.11878397],\n",
       "       [-2.47689761, -0.87757926],\n",
       "       [ 1.30165949,  0.43717214],\n",
       "       [ 0.19692819,  0.05278016],\n",
       "       [-0.54608162, -0.20575058],\n",
       "       [ 1.82742655,  0.62011313],\n",
       "       [ 0.78253898,  0.25654382],\n",
       "       [ 0.42742008,  0.13297997],\n",
       "       [-0.11279799, -0.05498926],\n",
       "       [-0.19754732, -0.08447785],\n",
       "       [-0.6524849 , -0.24277367],\n",
       "       [ 0.78113929,  0.25605679],\n",
       "       [-0.38173615, -0.14856647],\n",
       "       [ 0.28533378,  0.08354094],\n",
       "       [ 0.86192768,  0.28416717],\n",
       "       [ 0.63555566,  0.20540088],\n",
       "       [ 0.76356285,  0.24994106],\n",
       "       [ 1.02157187,  0.33971547],\n",
       "       [-1.05459948, -0.3826897 ],\n",
       "       [ 0.08325276,  0.01322672],\n",
       "       [ 0.95369589,  0.31609798],\n",
       "       [ 0.62318405,  0.20109617],\n",
       "       [ 0.98245885,  0.32610607],\n",
       "       [-0.52369464, -0.19796102],\n",
       "       [-1.38642821, -0.49814972],\n",
       "       [-1.17004569, -0.42285929],\n",
       "       [ 1.22030321,  0.40886417],\n",
       "       [-0.09668448, -0.04938256],\n",
       "       [ 1.31917217,  0.44326569],\n",
       "       [-0.65360095, -0.24316201],\n",
       "       [-0.39196884, -0.15212694],\n",
       "       [ 0.14455855,  0.03455811],\n",
       "       [ 0.83596115,  0.2751321 ],\n",
       "       [ 0.12339194,  0.02719318],\n",
       "       [ 0.20462518,  0.05545834],\n",
       "       [-0.23244463, -0.09662039],\n",
       "       [ 0.27582301,  0.08023167],\n",
       "       [-0.77192853, -0.28433416],\n",
       "       [ 0.48466995,  0.1529001 ],\n",
       "       [ 0.31351759,  0.09334752],\n",
       "       [ 0.03192396, -0.00463317],\n",
       "       [ 0.22781317,  0.06352661],\n",
       "       [-0.73396619, -0.27112514],\n",
       "       [ 0.10020544,  0.01912542],\n",
       "       [-0.18531038, -0.08022   ],\n",
       "       [ 0.18425314,  0.04836987],\n",
       "       [ 0.59898563,  0.19267631],\n",
       "       [-0.92931375, -0.33909645],\n",
       "       [ 0.6960149 ,  0.22643771],\n",
       "       [ 1.35972376,  0.45737564],\n",
       "       [-0.62288624, -0.2324748 ],\n",
       "       [-0.45632   , -0.17451797],\n",
       "       [-0.42272084, -0.16282712],\n",
       "       [-0.60796391, -0.22728257],\n",
       "       [ 1.2629158 ,  0.42369125],\n",
       "       [ 0.29022092,  0.08524143],\n",
       "       [-0.86146237, -0.31548752],\n",
       "       [ 0.36372371,  0.11081677],\n",
       "       [-0.42465872, -0.16350141],\n",
       "       [ 0.32130299,  0.09605646],\n",
       "       [ 0.34692093,  0.10497023],\n",
       "       [ 1.34232998,  0.45132346],\n",
       "       [-0.80186623, -0.294751  ],\n",
       "       [ 2.36712642,  0.80790205],\n",
       "       [ 0.12388707,  0.02736546],\n",
       "       [ 0.47250283,  0.14866654],\n",
       "       [-0.63390972, -0.23631043],\n",
       "       [-0.11223054, -0.05479182],\n",
       "       [-0.48199289, -0.18345087],\n",
       "       [-0.10440193, -0.05206785],\n",
       "       [-0.87057602, -0.31865862],\n",
       "       [ 0.68690371,  0.22326746],\n",
       "       [ 0.12837659,  0.02892759],\n",
       "       [-0.22897696, -0.09541381],\n",
       "       [ 1.16882369,  0.39095184],\n",
       "       [ 0.0906471 ,  0.01579959],\n",
       "       [ 1.00889063,  0.33530302],\n",
       "       [-0.61648077, -0.23024601],\n",
       "       [ 1.17678705,  0.39372269],\n",
       "       [ 0.26023168,  0.07480666],\n",
       "       [ 0.60666244,  0.19534746],\n",
       "       [-1.186897  , -0.42872271],\n",
       "       [ 0.1310575 ,  0.02986041],\n",
       "       [ 1.36861467,  0.46046924],\n",
       "       [-0.68218446, -0.25310766],\n",
       "       [-1.30158137, -0.46862721],\n",
       "       [-1.85129684, -0.65990107],\n",
       "       [-1.54247099, -0.55244491],\n",
       "       [-1.53459581, -0.54970474],\n",
       "       [-0.36764075, -0.14366197],\n",
       "       [ 0.90850287,  0.30037303],\n",
       "       [ 0.00248572, -0.01487622],\n",
       "       [ 0.52229038,  0.16599015],\n",
       "       [ 0.12086366,  0.02631346],\n",
       "       [ 0.0624086 ,  0.00597398],\n",
       "       [-0.09001971, -0.04706355],\n",
       "       [ 0.10667521,  0.02137658],\n",
       "       [ 0.43096566,  0.13421365],\n",
       "       [-0.60714827, -0.22699876],\n",
       "       [ 0.63334226,  0.20463072],\n",
       "       [-0.22345291, -0.09349171],\n",
       "       [ 0.24771628,  0.07045191],\n",
       "       [ 1.41155568,  0.47541059],\n",
       "       [-0.34736591, -0.13660732],\n",
       "       [-0.4279688 , -0.16465315],\n",
       "       [ 0.06919319,  0.00833469],\n",
       "       [-0.17947799, -0.07819061],\n",
       "       [-0.31907462, -0.12676335],\n",
       "       [-0.90769935, -0.33157571],\n",
       "       [-0.59800654, -0.22381789],\n",
       "       [ 0.32554546,  0.09753263],\n",
       "       [-1.33355953, -0.47975403],\n",
       "       [ 0.15409484,  0.03787627],\n",
       "       [ 0.01500988, -0.01051843],\n",
       "       [ 0.47583187,  0.14982488],\n",
       "       [ 0.75110775,  0.2456073 ],\n",
       "       [-1.96464824, -0.69934176],\n",
       "       [ 1.25038845,  0.41933235],\n",
       "       [-0.46181543, -0.17643011],\n",
       "       [-0.21968204, -0.09217964],\n",
       "       [-0.00485906, -0.01743184],\n",
       "       [ 1.5738068 ,  0.53186597],\n",
       "       [-0.39175392, -0.15205216],\n",
       "       [ 1.37216122,  0.46170326],\n",
       "       [ 0.33628614,  0.10126985],\n",
       "       [ 2.07444707,  0.70606408],\n",
       "       [-0.68044216, -0.25250142],\n",
       "       [-1.03512368, -0.37591309],\n",
       "       [ 0.41226176,  0.12770562],\n",
       "       [ 0.15937178,  0.03971238],\n",
       "       [ 0.14757016,  0.035606  ],\n",
       "       [-0.94103904, -0.34317627],\n",
       "       [ 0.15617694,  0.03860074],\n",
       "       [ 0.41886258,  0.13000238],\n",
       "       [-0.36040801, -0.14114533],\n",
       "       [ 0.12883682,  0.02908773],\n",
       "       [-0.03475764, -0.02783507],\n",
       "       [-0.57840708, -0.21699825],\n",
       "       [-0.41481367, -0.16007581],\n",
       "       [-0.61391535, -0.22935337],\n",
       "       [ 1.44421628,  0.48677486],\n",
       "       [ 0.36340926,  0.11070736],\n",
       "       [ 0.76991989,  0.252153  ],\n",
       "       [-0.50241926, -0.19055824],\n",
       "       [-0.01548988, -0.02113084],\n",
       "       [-1.15037705, -0.41601557],\n",
       "       [ 0.83915231,  0.27624246],\n",
       "       [ 0.28053308,  0.08187054],\n",
       "       [ 1.94762518,  0.66193632],\n",
       "       [-1.10634121, -0.40069327],\n",
       "       [ 0.36767753,  0.11219251]])"
      ]
     },
     "execution_count": 83,
     "metadata": {},
     "output_type": "execute_result"
    }
   ],
   "source": [
    "X_new"
   ]
  },
  {
   "cell_type": "code",
   "execution_count": 77,
   "metadata": {
    "scrolled": true
   },
   "outputs": [
    {
     "ename": "AttributeError",
     "evalue": "'PCA' object has no attribute 'components_'",
     "output_type": "error",
     "traceback": [
      "\u001b[0;31m---------------------------------------------------------------------------\u001b[0m",
      "\u001b[0;31mAttributeError\u001b[0m                            Traceback (most recent call last)",
      "\u001b[0;32m<ipython-input-77-9ce570e88ce1>\u001b[0m in \u001b[0;36m<module>\u001b[0;34m\u001b[0m\n\u001b[1;32m      1\u001b[0m \u001b[0mpca\u001b[0m \u001b[0;34m=\u001b[0m \u001b[0mPCA\u001b[0m\u001b[0;34m(\u001b[0m\u001b[0mn_components\u001b[0m\u001b[0;34m=\u001b[0m\u001b[0;36m1\u001b[0m\u001b[0;34m)\u001b[0m\u001b[0;34m\u001b[0m\u001b[0;34m\u001b[0m\u001b[0m\n\u001b[1;32m      2\u001b[0m \u001b[0mvector_x\u001b[0m \u001b[0;34m=\u001b[0m \u001b[0mnp\u001b[0m\u001b[0;34m.\u001b[0m\u001b[0marray\u001b[0m\u001b[0;34m(\u001b[0m\u001b[0mX_pca\u001b[0m\u001b[0;34m)\u001b[0m\u001b[0;34m\u001b[0m\u001b[0;34m\u001b[0m\u001b[0m\n\u001b[0;32m----> 3\u001b[0;31m \u001b[0mX_new\u001b[0m \u001b[0;34m=\u001b[0m \u001b[0mpca\u001b[0m\u001b[0;34m.\u001b[0m\u001b[0minverse_transform\u001b[0m\u001b[0;34m(\u001b[0m\u001b[0mx\u001b[0m\u001b[0;34m)\u001b[0m\u001b[0;34m\u001b[0m\u001b[0;34m\u001b[0m\u001b[0m\n\u001b[0m\u001b[1;32m      4\u001b[0m \u001b[0mX_new\u001b[0m\u001b[0;34m\u001b[0m\u001b[0;34m\u001b[0m\u001b[0m\n",
      "\u001b[0;32m~/anaconda3/lib/python3.7/site-packages/sklearn/decomposition/base.py\u001b[0m in \u001b[0;36minverse_transform\u001b[0;34m(self, X)\u001b[0m\n\u001b[1;32m    158\u001b[0m                             self.components_) + self.mean_\n\u001b[1;32m    159\u001b[0m         \u001b[0;32melse\u001b[0m\u001b[0;34m:\u001b[0m\u001b[0;34m\u001b[0m\u001b[0;34m\u001b[0m\u001b[0m\n\u001b[0;32m--> 160\u001b[0;31m             \u001b[0;32mreturn\u001b[0m \u001b[0mnp\u001b[0m\u001b[0;34m.\u001b[0m\u001b[0mdot\u001b[0m\u001b[0;34m(\u001b[0m\u001b[0mX\u001b[0m\u001b[0;34m,\u001b[0m \u001b[0mself\u001b[0m\u001b[0;34m.\u001b[0m\u001b[0mcomponents_\u001b[0m\u001b[0;34m)\u001b[0m \u001b[0;34m+\u001b[0m \u001b[0mself\u001b[0m\u001b[0;34m.\u001b[0m\u001b[0mmean_\u001b[0m\u001b[0;34m\u001b[0m\u001b[0;34m\u001b[0m\u001b[0m\n\u001b[0m",
      "\u001b[0;31mAttributeError\u001b[0m: 'PCA' object has no attribute 'components_'"
     ]
    }
   ],
   "source": [
    "pca = PCA(n_components=1)\n",
    "vector_x = np.array(X_pca)\n",
    "X_new = pca.inverse_transform(x)\n",
    "X_new"
   ]
  },
  {
   "cell_type": "code",
   "execution_count": 70,
   "metadata": {
    "scrolled": false
   },
   "outputs": [
    {
     "name": "stdout",
     "output_type": "stream",
     "text": [
      "[-15.00811302]\n",
      "[1.]\n",
      "[[1.]]\n",
      "[772.56058507]\n"
     ]
    }
   ],
   "source": [
    "print(pca.mean_)\n",
    "print(pca.explained_variance_ratio_)\n",
    "print(pca.components_)\n",
    "print(pca.explained_variance_)"
   ]
  },
  {
   "cell_type": "code",
   "execution_count": 9,
   "metadata": {},
   "outputs": [],
   "source": [
    "def q3():\n",
    "    return (0.5, 0.5)"
   ]
  },
  {
   "cell_type": "markdown",
   "metadata": {},
   "source": [
    "## Questão 4\n",
    "\n",
    "Realiza RFE com estimador de regressão linear para selecionar cinco variáveis, eliminando uma a uma. Quais são as variáveis selecionadas? Responda como uma lista de nomes de variáveis."
   ]
  },
  {
   "cell_type": "code",
   "execution_count": 10,
   "metadata": {},
   "outputs": [],
   "source": [
    "fifa_x = fifa.drop('Overall',1)\n",
    "fifa_y =  fifa['Overall']"
   ]
  },
  {
   "cell_type": "code",
   "execution_count": 11,
   "metadata": {},
   "outputs": [],
   "source": [
    "X_train, X_test, y_train, y_test = train_test_split(fifa_x,  fifa_y)"
   ]
  },
  {
   "cell_type": "code",
   "execution_count": 12,
   "metadata": {},
   "outputs": [
    {
     "data": {
      "text/plain": [
       "LinearRegression(copy_X=True, fit_intercept=True, n_jobs=None,\n",
       "         normalize=False)"
      ]
     },
     "execution_count": 12,
     "metadata": {},
     "output_type": "execute_result"
    }
   ],
   "source": [
    "reg = LinearRegression()\n",
    "reg.fit(X_train, y_train)"
   ]
  },
  {
   "cell_type": "code",
   "execution_count": 13,
   "metadata": {},
   "outputs": [],
   "source": [
    "rfe = RFE(reg)"
   ]
  },
  {
   "cell_type": "code",
   "execution_count": 14,
   "metadata": {},
   "outputs": [
    {
     "data": {
      "text/plain": [
       "RFE(estimator=LinearRegression(copy_X=True, fit_intercept=True, n_jobs=None,\n",
       "         normalize=False),\n",
       "  n_features_to_select=None, step=1, verbose=0)"
      ]
     },
     "execution_count": 14,
     "metadata": {},
     "output_type": "execute_result"
    }
   ],
   "source": [
    "rfe.fit(X_train, y_train)"
   ]
  },
  {
   "cell_type": "code",
   "execution_count": 15,
   "metadata": {},
   "outputs": [],
   "source": [
    "resultado = pd.DataFrame({\n",
    "    'colunas': X_train.columns,\n",
    "    'bool':rfe.get_support(),\n",
    "    'coeficientes': pd.Series(reg.coef_)\n",
    "})"
   ]
  },
  {
   "cell_type": "code",
   "execution_count": 16,
   "metadata": {},
   "outputs": [],
   "source": [
    "resultados_validos = resultado[resultado['bool'] == True]"
   ]
  },
  {
   "cell_type": "code",
   "execution_count": 17,
   "metadata": {},
   "outputs": [],
   "source": [
    "cinco_resultados = resultados_validos.sort_values(by='coeficientes', ascending=False )[:5]"
   ]
  },
  {
   "cell_type": "code",
   "execution_count": 18,
   "metadata": {
    "scrolled": true
   },
   "outputs": [],
   "source": [
    "resposta = list(cinco_resultados['colunas'])"
   ]
  },
  {
   "cell_type": "code",
   "execution_count": 20,
   "metadata": {},
   "outputs": [
    {
     "data": {
      "text/plain": [
       "['Potential', 'Age', 'Reactions', 'BallControl', 'GKDiving']"
      ]
     },
     "execution_count": 20,
     "metadata": {},
     "output_type": "execute_result"
    }
   ],
   "source": [
    "def q4():\n",
    "    return resposta\n",
    "\n",
    "q4()"
   ]
  },
  {
   "cell_type": "code",
   "execution_count": null,
   "metadata": {},
   "outputs": [],
   "source": []
  }
 ],
 "metadata": {
  "kernelspec": {
   "display_name": "Python 3",
   "language": "python",
   "name": "python3"
  },
  "language_info": {
   "codemirror_mode": {
    "name": "ipython",
    "version": 3
   },
   "file_extension": ".py",
   "mimetype": "text/x-python",
   "name": "python",
   "nbconvert_exporter": "python",
   "pygments_lexer": "ipython3",
   "version": "3.7.3"
  }
 },
 "nbformat": 4,
 "nbformat_minor": 2
}
