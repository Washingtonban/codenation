{
 "cells": [
  {
   "cell_type": "markdown",
   "metadata": {},
   "source": [
    "# Desafio 6\n",
    "\n",
    "Neste desafio, vamos praticar _feature engineering_, um dos processos mais importantes e trabalhosos de ML. Utilizaremos o _data set_ [Countries of the world](https://www.kaggle.com/fernandol/countries-of-the-world), que contém dados sobre os 227 países do mundo com informações sobre tamanho da população, área, imigração e setores de produção.\n",
    "\n",
    "> Obs.: Por favor, não modifique o nome das funções de resposta."
   ]
  },
  {
   "cell_type": "markdown",
   "metadata": {},
   "source": [
    "## _Setup_ geral"
   ]
  },
  {
   "cell_type": "code",
   "execution_count": 1,
   "metadata": {},
   "outputs": [],
   "source": [
    "import pandas as pd\n",
    "import numpy as np\n",
    "import seaborn as sns\n",
    "import sklearn as sk"
   ]
  },
  {
   "cell_type": "code",
   "execution_count": 2,
   "metadata": {},
   "outputs": [],
   "source": [
    "from sklearn.preprocessing import (\n",
    "    OneHotEncoder, Binarizer, KBinsDiscretizer,\n",
    "    MinMaxScaler, StandardScaler, PolynomialFeatures\n",
    ")\n",
    "from sklearn.impute import SimpleImputer\n",
    "from sklearn.pipeline import Pipeline\n",
    "from sklearn.datasets import load_digits, fetch_20newsgroups\n",
    "from sklearn.feature_extraction.text import (\n",
    "    CountVectorizer, TfidfTransformer, TfidfVectorizer\n",
    ")"
   ]
  },
  {
   "cell_type": "code",
   "execution_count": 3,
   "metadata": {},
   "outputs": [],
   "source": [
    "# Algumas configurações para o matplotlib.\n",
    "#%matplotlib inline\n",
    "\n",
    "from IPython.core.pylabtools import figsize\n",
    "\n",
    "\n",
    "figsize(12, 8)\n",
    "\n",
    "sns.set()"
   ]
  },
  {
   "cell_type": "code",
   "execution_count": 4,
   "metadata": {
    "scrolled": false
   },
   "outputs": [],
   "source": [
    "countries = pd.read_csv(\"data/countries.csv\")"
   ]
  },
  {
   "cell_type": "code",
   "execution_count": 5,
   "metadata": {},
   "outputs": [
    {
     "data": {
      "text/html": [
       "<div>\n",
       "<style scoped>\n",
       "    .dataframe tbody tr th:only-of-type {\n",
       "        vertical-align: middle;\n",
       "    }\n",
       "\n",
       "    .dataframe tbody tr th {\n",
       "        vertical-align: top;\n",
       "    }\n",
       "\n",
       "    .dataframe thead th {\n",
       "        text-align: right;\n",
       "    }\n",
       "</style>\n",
       "<table border=\"1\" class=\"dataframe\">\n",
       "  <thead>\n",
       "    <tr style=\"text-align: right;\">\n",
       "      <th></th>\n",
       "      <th>Country</th>\n",
       "      <th>Region</th>\n",
       "      <th>Population</th>\n",
       "      <th>Area</th>\n",
       "      <th>Pop_density</th>\n",
       "      <th>Coastline_ratio</th>\n",
       "      <th>Net_migration</th>\n",
       "      <th>Infant_mortality</th>\n",
       "      <th>GDP</th>\n",
       "      <th>Literacy</th>\n",
       "      <th>Phones_per_1000</th>\n",
       "      <th>Arable</th>\n",
       "      <th>Crops</th>\n",
       "      <th>Other</th>\n",
       "      <th>Climate</th>\n",
       "      <th>Birthrate</th>\n",
       "      <th>Deathrate</th>\n",
       "      <th>Agriculture</th>\n",
       "      <th>Industry</th>\n",
       "      <th>Service</th>\n",
       "    </tr>\n",
       "  </thead>\n",
       "  <tbody>\n",
       "    <tr>\n",
       "      <th>0</th>\n",
       "      <td>Afghanistan</td>\n",
       "      <td>ASIA (EX. NEAR EAST)</td>\n",
       "      <td>31056997</td>\n",
       "      <td>647500</td>\n",
       "      <td>48,0</td>\n",
       "      <td>0,00</td>\n",
       "      <td>23,06</td>\n",
       "      <td>163,07</td>\n",
       "      <td>700.0</td>\n",
       "      <td>36,0</td>\n",
       "      <td>3,2</td>\n",
       "      <td>12,13</td>\n",
       "      <td>0,22</td>\n",
       "      <td>87,65</td>\n",
       "      <td>1</td>\n",
       "      <td>46,6</td>\n",
       "      <td>20,34</td>\n",
       "      <td>0,38</td>\n",
       "      <td>0,24</td>\n",
       "      <td>0,38</td>\n",
       "    </tr>\n",
       "    <tr>\n",
       "      <th>1</th>\n",
       "      <td>Albania</td>\n",
       "      <td>EASTERN EUROPE</td>\n",
       "      <td>3581655</td>\n",
       "      <td>28748</td>\n",
       "      <td>124,6</td>\n",
       "      <td>1,26</td>\n",
       "      <td>-4,93</td>\n",
       "      <td>21,52</td>\n",
       "      <td>4500.0</td>\n",
       "      <td>86,5</td>\n",
       "      <td>71,2</td>\n",
       "      <td>21,09</td>\n",
       "      <td>4,42</td>\n",
       "      <td>74,49</td>\n",
       "      <td>3</td>\n",
       "      <td>15,11</td>\n",
       "      <td>5,22</td>\n",
       "      <td>0,232</td>\n",
       "      <td>0,188</td>\n",
       "      <td>0,579</td>\n",
       "    </tr>\n",
       "    <tr>\n",
       "      <th>2</th>\n",
       "      <td>Algeria</td>\n",
       "      <td>NORTHERN AFRICA</td>\n",
       "      <td>32930091</td>\n",
       "      <td>2381740</td>\n",
       "      <td>13,8</td>\n",
       "      <td>0,04</td>\n",
       "      <td>-0,39</td>\n",
       "      <td>31</td>\n",
       "      <td>6000.0</td>\n",
       "      <td>70,0</td>\n",
       "      <td>78,1</td>\n",
       "      <td>3,22</td>\n",
       "      <td>0,25</td>\n",
       "      <td>96,53</td>\n",
       "      <td>1</td>\n",
       "      <td>17,14</td>\n",
       "      <td>4,61</td>\n",
       "      <td>0,101</td>\n",
       "      <td>0,6</td>\n",
       "      <td>0,298</td>\n",
       "    </tr>\n",
       "    <tr>\n",
       "      <th>3</th>\n",
       "      <td>American Samoa</td>\n",
       "      <td>OCEANIA</td>\n",
       "      <td>57794</td>\n",
       "      <td>199</td>\n",
       "      <td>290,4</td>\n",
       "      <td>58,29</td>\n",
       "      <td>-20,71</td>\n",
       "      <td>9,27</td>\n",
       "      <td>8000.0</td>\n",
       "      <td>97,0</td>\n",
       "      <td>259,5</td>\n",
       "      <td>10</td>\n",
       "      <td>15</td>\n",
       "      <td>75</td>\n",
       "      <td>2</td>\n",
       "      <td>22,46</td>\n",
       "      <td>3,27</td>\n",
       "      <td>NaN</td>\n",
       "      <td>NaN</td>\n",
       "      <td>NaN</td>\n",
       "    </tr>\n",
       "    <tr>\n",
       "      <th>4</th>\n",
       "      <td>Andorra</td>\n",
       "      <td>WESTERN EUROPE</td>\n",
       "      <td>71201</td>\n",
       "      <td>468</td>\n",
       "      <td>152,1</td>\n",
       "      <td>0,00</td>\n",
       "      <td>6,6</td>\n",
       "      <td>4,05</td>\n",
       "      <td>19000.0</td>\n",
       "      <td>100,0</td>\n",
       "      <td>497,2</td>\n",
       "      <td>2,22</td>\n",
       "      <td>0</td>\n",
       "      <td>97,78</td>\n",
       "      <td>3</td>\n",
       "      <td>8,71</td>\n",
       "      <td>6,25</td>\n",
       "      <td>NaN</td>\n",
       "      <td>NaN</td>\n",
       "      <td>NaN</td>\n",
       "    </tr>\n",
       "  </tbody>\n",
       "</table>\n",
       "</div>"
      ],
      "text/plain": [
       "           Country                               Region  Population     Area  \\\n",
       "0     Afghanistan         ASIA (EX. NEAR EAST)             31056997   647500   \n",
       "1         Albania   EASTERN EUROPE                          3581655    28748   \n",
       "2         Algeria   NORTHERN AFRICA                        32930091  2381740   \n",
       "3  American Samoa   OCEANIA                                   57794      199   \n",
       "4         Andorra   WESTERN EUROPE                            71201      468   \n",
       "\n",
       "  Pop_density Coastline_ratio Net_migration Infant_mortality      GDP  \\\n",
       "0        48,0            0,00         23,06           163,07    700.0   \n",
       "1       124,6            1,26         -4,93            21,52   4500.0   \n",
       "2        13,8            0,04         -0,39               31   6000.0   \n",
       "3       290,4           58,29        -20,71             9,27   8000.0   \n",
       "4       152,1            0,00           6,6             4,05  19000.0   \n",
       "\n",
       "  Literacy Phones_per_1000 Arable Crops  Other Climate Birthrate Deathrate  \\\n",
       "0     36,0             3,2  12,13  0,22  87,65       1      46,6     20,34   \n",
       "1     86,5            71,2  21,09  4,42  74,49       3     15,11      5,22   \n",
       "2     70,0            78,1   3,22  0,25  96,53       1     17,14      4,61   \n",
       "3     97,0           259,5     10    15     75       2     22,46      3,27   \n",
       "4    100,0           497,2   2,22     0  97,78       3      8,71      6,25   \n",
       "\n",
       "  Agriculture Industry Service  \n",
       "0        0,38     0,24    0,38  \n",
       "1       0,232    0,188   0,579  \n",
       "2       0,101      0,6   0,298  \n",
       "3         NaN      NaN     NaN  \n",
       "4         NaN      NaN     NaN  "
      ]
     },
     "execution_count": 5,
     "metadata": {},
     "output_type": "execute_result"
    }
   ],
   "source": [
    "new_column_names = [\n",
    "    \"Country\", \"Region\", \"Population\", \"Area\", \"Pop_density\", \"Coastline_ratio\",\n",
    "    \"Net_migration\", \"Infant_mortality\", \"GDP\", \"Literacy\", \"Phones_per_1000\",\n",
    "    \"Arable\", \"Crops\", \"Other\", \"Climate\", \"Birthrate\", \"Deathrate\", \"Agriculture\",\n",
    "    \"Industry\", \"Service\"\n",
    "]\n",
    "\n",
    "countries.columns = new_column_names\n",
    "\n",
    "countries.head()"
   ]
  },
  {
   "cell_type": "markdown",
   "metadata": {},
   "source": [
    "## Observações\n",
    "\n",
    "Esse _data set_ ainda precisa de alguns ajustes iniciais. Primeiro, note que as variáveis numéricas estão usando vírgula como separador decimal e estão codificadas como strings. Corrija isso antes de continuar: transforme essas variáveis em numéricas adequadamente.\n",
    "\n",
    "Além disso, as variáveis `Country` e `Region` possuem espaços a mais no começo e no final da string. Você pode utilizar o método `str.strip()` para remover esses espaços."
   ]
  },
  {
   "cell_type": "markdown",
   "metadata": {},
   "source": [
    "## Inicia sua análise a partir daqui"
   ]
  },
  {
   "cell_type": "code",
   "execution_count": 6,
   "metadata": {},
   "outputs": [
    {
     "data": {
      "text/html": [
       "<div>\n",
       "<style scoped>\n",
       "    .dataframe tbody tr th:only-of-type {\n",
       "        vertical-align: middle;\n",
       "    }\n",
       "\n",
       "    .dataframe tbody tr th {\n",
       "        vertical-align: top;\n",
       "    }\n",
       "\n",
       "    .dataframe thead th {\n",
       "        text-align: right;\n",
       "    }\n",
       "</style>\n",
       "<table border=\"1\" class=\"dataframe\">\n",
       "  <thead>\n",
       "    <tr style=\"text-align: right;\">\n",
       "      <th></th>\n",
       "      <th>Country</th>\n",
       "      <th>Region</th>\n",
       "      <th>Population</th>\n",
       "      <th>Area</th>\n",
       "      <th>Pop_density</th>\n",
       "      <th>Coastline_ratio</th>\n",
       "      <th>Net_migration</th>\n",
       "      <th>Infant_mortality</th>\n",
       "      <th>GDP</th>\n",
       "      <th>Literacy</th>\n",
       "      <th>Phones_per_1000</th>\n",
       "      <th>Arable</th>\n",
       "      <th>Crops</th>\n",
       "      <th>Other</th>\n",
       "      <th>Climate</th>\n",
       "      <th>Birthrate</th>\n",
       "      <th>Deathrate</th>\n",
       "      <th>Agriculture</th>\n",
       "      <th>Industry</th>\n",
       "      <th>Service</th>\n",
       "    </tr>\n",
       "  </thead>\n",
       "  <tbody>\n",
       "    <tr>\n",
       "      <th>0</th>\n",
       "      <td>Afghanistan</td>\n",
       "      <td>ASIA (EX. NEAR EAST)</td>\n",
       "      <td>31056997</td>\n",
       "      <td>647500</td>\n",
       "      <td>48,0</td>\n",
       "      <td>0,00</td>\n",
       "      <td>23,06</td>\n",
       "      <td>163,07</td>\n",
       "      <td>700.0</td>\n",
       "      <td>36,0</td>\n",
       "      <td>3,2</td>\n",
       "      <td>12,13</td>\n",
       "      <td>0,22</td>\n",
       "      <td>87,65</td>\n",
       "      <td>1</td>\n",
       "      <td>46,6</td>\n",
       "      <td>20,34</td>\n",
       "      <td>0,38</td>\n",
       "      <td>0,24</td>\n",
       "      <td>0,38</td>\n",
       "    </tr>\n",
       "    <tr>\n",
       "      <th>1</th>\n",
       "      <td>Albania</td>\n",
       "      <td>EASTERN EUROPE</td>\n",
       "      <td>3581655</td>\n",
       "      <td>28748</td>\n",
       "      <td>124,6</td>\n",
       "      <td>1,26</td>\n",
       "      <td>-4,93</td>\n",
       "      <td>21,52</td>\n",
       "      <td>4500.0</td>\n",
       "      <td>86,5</td>\n",
       "      <td>71,2</td>\n",
       "      <td>21,09</td>\n",
       "      <td>4,42</td>\n",
       "      <td>74,49</td>\n",
       "      <td>3</td>\n",
       "      <td>15,11</td>\n",
       "      <td>5,22</td>\n",
       "      <td>0,232</td>\n",
       "      <td>0,188</td>\n",
       "      <td>0,579</td>\n",
       "    </tr>\n",
       "    <tr>\n",
       "      <th>2</th>\n",
       "      <td>Algeria</td>\n",
       "      <td>NORTHERN AFRICA</td>\n",
       "      <td>32930091</td>\n",
       "      <td>2381740</td>\n",
       "      <td>13,8</td>\n",
       "      <td>0,04</td>\n",
       "      <td>-0,39</td>\n",
       "      <td>31</td>\n",
       "      <td>6000.0</td>\n",
       "      <td>70,0</td>\n",
       "      <td>78,1</td>\n",
       "      <td>3,22</td>\n",
       "      <td>0,25</td>\n",
       "      <td>96,53</td>\n",
       "      <td>1</td>\n",
       "      <td>17,14</td>\n",
       "      <td>4,61</td>\n",
       "      <td>0,101</td>\n",
       "      <td>0,6</td>\n",
       "      <td>0,298</td>\n",
       "    </tr>\n",
       "    <tr>\n",
       "      <th>3</th>\n",
       "      <td>American Samoa</td>\n",
       "      <td>OCEANIA</td>\n",
       "      <td>57794</td>\n",
       "      <td>199</td>\n",
       "      <td>290,4</td>\n",
       "      <td>58,29</td>\n",
       "      <td>-20,71</td>\n",
       "      <td>9,27</td>\n",
       "      <td>8000.0</td>\n",
       "      <td>97,0</td>\n",
       "      <td>259,5</td>\n",
       "      <td>10</td>\n",
       "      <td>15</td>\n",
       "      <td>75</td>\n",
       "      <td>2</td>\n",
       "      <td>22,46</td>\n",
       "      <td>3,27</td>\n",
       "      <td>NaN</td>\n",
       "      <td>NaN</td>\n",
       "      <td>NaN</td>\n",
       "    </tr>\n",
       "    <tr>\n",
       "      <th>4</th>\n",
       "      <td>Andorra</td>\n",
       "      <td>WESTERN EUROPE</td>\n",
       "      <td>71201</td>\n",
       "      <td>468</td>\n",
       "      <td>152,1</td>\n",
       "      <td>0,00</td>\n",
       "      <td>6,6</td>\n",
       "      <td>4,05</td>\n",
       "      <td>19000.0</td>\n",
       "      <td>100,0</td>\n",
       "      <td>497,2</td>\n",
       "      <td>2,22</td>\n",
       "      <td>0</td>\n",
       "      <td>97,78</td>\n",
       "      <td>3</td>\n",
       "      <td>8,71</td>\n",
       "      <td>6,25</td>\n",
       "      <td>NaN</td>\n",
       "      <td>NaN</td>\n",
       "      <td>NaN</td>\n",
       "    </tr>\n",
       "  </tbody>\n",
       "</table>\n",
       "</div>"
      ],
      "text/plain": [
       "          Country                Region  Population     Area Pop_density  \\\n",
       "0     Afghanistan  ASIA (EX. NEAR EAST)    31056997   647500        48,0   \n",
       "1         Albania        EASTERN EUROPE     3581655    28748       124,6   \n",
       "2         Algeria       NORTHERN AFRICA    32930091  2381740        13,8   \n",
       "3  American Samoa               OCEANIA       57794      199       290,4   \n",
       "4         Andorra        WESTERN EUROPE       71201      468       152,1   \n",
       "\n",
       "  Coastline_ratio Net_migration Infant_mortality      GDP Literacy  \\\n",
       "0            0,00         23,06           163,07    700.0     36,0   \n",
       "1            1,26         -4,93            21,52   4500.0     86,5   \n",
       "2            0,04         -0,39               31   6000.0     70,0   \n",
       "3           58,29        -20,71             9,27   8000.0     97,0   \n",
       "4            0,00           6,6             4,05  19000.0    100,0   \n",
       "\n",
       "  Phones_per_1000 Arable Crops  Other Climate Birthrate Deathrate Agriculture  \\\n",
       "0             3,2  12,13  0,22  87,65       1      46,6     20,34        0,38   \n",
       "1            71,2  21,09  4,42  74,49       3     15,11      5,22       0,232   \n",
       "2            78,1   3,22  0,25  96,53       1     17,14      4,61       0,101   \n",
       "3           259,5     10    15     75       2     22,46      3,27         NaN   \n",
       "4           497,2   2,22     0  97,78       3      8,71      6,25         NaN   \n",
       "\n",
       "  Industry Service  \n",
       "0     0,24    0,38  \n",
       "1    0,188   0,579  \n",
       "2      0,6   0,298  \n",
       "3      NaN     NaN  \n",
       "4      NaN     NaN  "
      ]
     },
     "execution_count": 6,
     "metadata": {},
     "output_type": "execute_result"
    }
   ],
   "source": [
    "# Sua análise começa aqui.\n",
    "countries['Country'] = countries['Country'].str.strip()\n",
    "countries['Region'] = countries['Region'].str.strip()\n",
    "countries.head()"
   ]
  },
  {
   "cell_type": "code",
   "execution_count": 7,
   "metadata": {},
   "outputs": [
    {
     "data": {
      "text/html": [
       "<div>\n",
       "<style scoped>\n",
       "    .dataframe tbody tr th:only-of-type {\n",
       "        vertical-align: middle;\n",
       "    }\n",
       "\n",
       "    .dataframe tbody tr th {\n",
       "        vertical-align: top;\n",
       "    }\n",
       "\n",
       "    .dataframe thead th {\n",
       "        text-align: right;\n",
       "    }\n",
       "</style>\n",
       "<table border=\"1\" class=\"dataframe\">\n",
       "  <thead>\n",
       "    <tr style=\"text-align: right;\">\n",
       "      <th></th>\n",
       "      <th>0</th>\n",
       "      <th>1</th>\n",
       "      <th>2</th>\n",
       "      <th>3</th>\n",
       "      <th>4</th>\n",
       "    </tr>\n",
       "  </thead>\n",
       "  <tbody>\n",
       "    <tr>\n",
       "      <th>Country</th>\n",
       "      <td>Afghanistan</td>\n",
       "      <td>Albania</td>\n",
       "      <td>Algeria</td>\n",
       "      <td>American Samoa</td>\n",
       "      <td>Andorra</td>\n",
       "    </tr>\n",
       "    <tr>\n",
       "      <th>Region</th>\n",
       "      <td>ASIA (EX. NEAR EAST)</td>\n",
       "      <td>EASTERN EUROPE</td>\n",
       "      <td>NORTHERN AFRICA</td>\n",
       "      <td>OCEANIA</td>\n",
       "      <td>WESTERN EUROPE</td>\n",
       "    </tr>\n",
       "    <tr>\n",
       "      <th>Population</th>\n",
       "      <td>31056997</td>\n",
       "      <td>3581655</td>\n",
       "      <td>32930091</td>\n",
       "      <td>57794</td>\n",
       "      <td>71201</td>\n",
       "    </tr>\n",
       "    <tr>\n",
       "      <th>Area</th>\n",
       "      <td>647500</td>\n",
       "      <td>28748</td>\n",
       "      <td>2381740</td>\n",
       "      <td>199</td>\n",
       "      <td>468</td>\n",
       "    </tr>\n",
       "    <tr>\n",
       "      <th>Pop_density</th>\n",
       "      <td>48,0</td>\n",
       "      <td>124,6</td>\n",
       "      <td>13,8</td>\n",
       "      <td>290,4</td>\n",
       "      <td>152,1</td>\n",
       "    </tr>\n",
       "    <tr>\n",
       "      <th>Coastline_ratio</th>\n",
       "      <td>0,00</td>\n",
       "      <td>1,26</td>\n",
       "      <td>0,04</td>\n",
       "      <td>58,29</td>\n",
       "      <td>0,00</td>\n",
       "    </tr>\n",
       "    <tr>\n",
       "      <th>Net_migration</th>\n",
       "      <td>23,06</td>\n",
       "      <td>-4,93</td>\n",
       "      <td>-0,39</td>\n",
       "      <td>-20,71</td>\n",
       "      <td>6,6</td>\n",
       "    </tr>\n",
       "    <tr>\n",
       "      <th>Infant_mortality</th>\n",
       "      <td>163,07</td>\n",
       "      <td>21,52</td>\n",
       "      <td>31</td>\n",
       "      <td>9,27</td>\n",
       "      <td>4,05</td>\n",
       "    </tr>\n",
       "    <tr>\n",
       "      <th>GDP</th>\n",
       "      <td>700</td>\n",
       "      <td>4500</td>\n",
       "      <td>6000</td>\n",
       "      <td>8000</td>\n",
       "      <td>19000</td>\n",
       "    </tr>\n",
       "    <tr>\n",
       "      <th>Literacy</th>\n",
       "      <td>36,0</td>\n",
       "      <td>86,5</td>\n",
       "      <td>70,0</td>\n",
       "      <td>97,0</td>\n",
       "      <td>100,0</td>\n",
       "    </tr>\n",
       "    <tr>\n",
       "      <th>Phones_per_1000</th>\n",
       "      <td>3,2</td>\n",
       "      <td>71,2</td>\n",
       "      <td>78,1</td>\n",
       "      <td>259,5</td>\n",
       "      <td>497,2</td>\n",
       "    </tr>\n",
       "    <tr>\n",
       "      <th>Arable</th>\n",
       "      <td>12,13</td>\n",
       "      <td>21,09</td>\n",
       "      <td>3,22</td>\n",
       "      <td>10</td>\n",
       "      <td>2,22</td>\n",
       "    </tr>\n",
       "    <tr>\n",
       "      <th>Crops</th>\n",
       "      <td>0,22</td>\n",
       "      <td>4,42</td>\n",
       "      <td>0,25</td>\n",
       "      <td>15</td>\n",
       "      <td>0</td>\n",
       "    </tr>\n",
       "    <tr>\n",
       "      <th>Other</th>\n",
       "      <td>87,65</td>\n",
       "      <td>74,49</td>\n",
       "      <td>96,53</td>\n",
       "      <td>75</td>\n",
       "      <td>97,78</td>\n",
       "    </tr>\n",
       "    <tr>\n",
       "      <th>Climate</th>\n",
       "      <td>1</td>\n",
       "      <td>3</td>\n",
       "      <td>1</td>\n",
       "      <td>2</td>\n",
       "      <td>3</td>\n",
       "    </tr>\n",
       "    <tr>\n",
       "      <th>Birthrate</th>\n",
       "      <td>46,6</td>\n",
       "      <td>15,11</td>\n",
       "      <td>17,14</td>\n",
       "      <td>22,46</td>\n",
       "      <td>8,71</td>\n",
       "    </tr>\n",
       "    <tr>\n",
       "      <th>Deathrate</th>\n",
       "      <td>20,34</td>\n",
       "      <td>5,22</td>\n",
       "      <td>4,61</td>\n",
       "      <td>3,27</td>\n",
       "      <td>6,25</td>\n",
       "    </tr>\n",
       "    <tr>\n",
       "      <th>Agriculture</th>\n",
       "      <td>0,38</td>\n",
       "      <td>0,232</td>\n",
       "      <td>0,101</td>\n",
       "      <td>NaN</td>\n",
       "      <td>NaN</td>\n",
       "    </tr>\n",
       "    <tr>\n",
       "      <th>Industry</th>\n",
       "      <td>0,24</td>\n",
       "      <td>0,188</td>\n",
       "      <td>0,6</td>\n",
       "      <td>NaN</td>\n",
       "      <td>NaN</td>\n",
       "    </tr>\n",
       "    <tr>\n",
       "      <th>Service</th>\n",
       "      <td>0,38</td>\n",
       "      <td>0,579</td>\n",
       "      <td>0,298</td>\n",
       "      <td>NaN</td>\n",
       "      <td>NaN</td>\n",
       "    </tr>\n",
       "  </tbody>\n",
       "</table>\n",
       "</div>"
      ],
      "text/plain": [
       "                                     0               1                2  \\\n",
       "Country                    Afghanistan         Albania          Algeria   \n",
       "Region            ASIA (EX. NEAR EAST)  EASTERN EUROPE  NORTHERN AFRICA   \n",
       "Population                    31056997         3581655         32930091   \n",
       "Area                            647500           28748          2381740   \n",
       "Pop_density                       48,0           124,6             13,8   \n",
       "Coastline_ratio                   0,00            1,26             0,04   \n",
       "Net_migration                    23,06           -4,93            -0,39   \n",
       "Infant_mortality                163,07           21,52               31   \n",
       "GDP                                700            4500             6000   \n",
       "Literacy                          36,0            86,5             70,0   \n",
       "Phones_per_1000                    3,2            71,2             78,1   \n",
       "Arable                           12,13           21,09             3,22   \n",
       "Crops                             0,22            4,42             0,25   \n",
       "Other                            87,65           74,49            96,53   \n",
       "Climate                              1               3                1   \n",
       "Birthrate                         46,6           15,11            17,14   \n",
       "Deathrate                        20,34            5,22             4,61   \n",
       "Agriculture                       0,38           0,232            0,101   \n",
       "Industry                          0,24           0,188              0,6   \n",
       "Service                           0,38           0,579            0,298   \n",
       "\n",
       "                               3               4  \n",
       "Country           American Samoa         Andorra  \n",
       "Region                   OCEANIA  WESTERN EUROPE  \n",
       "Population                 57794           71201  \n",
       "Area                         199             468  \n",
       "Pop_density                290,4           152,1  \n",
       "Coastline_ratio            58,29            0,00  \n",
       "Net_migration             -20,71             6,6  \n",
       "Infant_mortality            9,27            4,05  \n",
       "GDP                         8000           19000  \n",
       "Literacy                    97,0           100,0  \n",
       "Phones_per_1000            259,5           497,2  \n",
       "Arable                        10            2,22  \n",
       "Crops                         15               0  \n",
       "Other                         75           97,78  \n",
       "Climate                        2               3  \n",
       "Birthrate                  22,46            8,71  \n",
       "Deathrate                   3,27            6,25  \n",
       "Agriculture                  NaN             NaN  \n",
       "Industry                     NaN             NaN  \n",
       "Service                      NaN             NaN  "
      ]
     },
     "execution_count": 7,
     "metadata": {},
     "output_type": "execute_result"
    }
   ],
   "source": [
    "countries.head().T"
   ]
  },
  {
   "cell_type": "code",
   "execution_count": 8,
   "metadata": {},
   "outputs": [],
   "source": [
    "variavel_float = [\"Pop_density\", \"Coastline_ratio\", \"Net_migration\", \"Infant_mortality\", \"Literacy\", \n",
    "                  \"Phones_per_1000\", \"Arable\", \"Crops\", \"Other\", \"Birthrate\", \"Deathrate\", \"Agriculture\",\n",
    "                  \"Industry\", \"Service\"]\n",
    "\n",
    "for coluna in variavel_float:\n",
    "    countries[coluna] = countries[coluna].replace(regex='\\,', value='.')\n",
    "    countries[coluna] = countries[coluna].astype(float)"
   ]
  },
  {
   "cell_type": "markdown",
   "metadata": {},
   "source": [
    "## Questão 1\n",
    "\n",
    "Quais são as regiões (variável `Region`) presentes no _data set_? Retorne uma lista com as regiões únicas do _data set_ com os espaços à frente e atrás da string removidos (mas mantenha pontuação: ponto, hífen etc) e ordenadas em ordem alfabética."
   ]
  },
  {
   "cell_type": "code",
   "execution_count": 9,
   "metadata": {},
   "outputs": [
    {
     "data": {
      "text/plain": [
       "['ASIA (EX. NEAR EAST)',\n",
       " 'BALTICS',\n",
       " 'C.W. OF IND. STATES',\n",
       " 'EASTERN EUROPE',\n",
       " 'LATIN AMER. & CARIB',\n",
       " 'NEAR EAST',\n",
       " 'NORTHERN AFRICA',\n",
       " 'NORTHERN AMERICA',\n",
       " 'OCEANIA',\n",
       " 'SUB-SAHARAN AFRICA',\n",
       " 'WESTERN EUROPE']"
      ]
     },
     "execution_count": 9,
     "metadata": {},
     "output_type": "execute_result"
    }
   ],
   "source": [
    "def q1():\n",
    "    regioes = np.sort(countries['Region'].unique())\n",
    "    return list(regioes)\n",
    "\n",
    "q1()"
   ]
  },
  {
   "cell_type": "markdown",
   "metadata": {},
   "source": [
    "## Questão 2\n",
    "\n",
    "Discretizando a variável `Pop_density` em 10 intervalos com `KBinsDiscretizer`, seguindo o encode `ordinal` e estratégia `quantile`, quantos países se encontram acima do 90º percentil? Responda como um único escalar inteiro."
   ]
  },
  {
   "cell_type": "code",
   "execution_count": 10,
   "metadata": {},
   "outputs": [
    {
     "data": {
      "text/plain": [
       "23"
      ]
     },
     "execution_count": 10,
     "metadata": {},
     "output_type": "execute_result"
    }
   ],
   "source": [
    "def q2():\n",
    "    discretizar = KBinsDiscretizer(n_bins=10, encode='ordinal',  strategy='quantile')\n",
    "    discretizar.fit(countries[['Pop_density']])\n",
    "    resposta = discretizar.transform(countries[['Pop_density']])\n",
    "    resposta = sum(resposta[:, 0] == 9)\n",
    "    return int(resposta)\n",
    "    \n",
    "q2()"
   ]
  },
  {
   "cell_type": "markdown",
   "metadata": {},
   "source": [
    "# Questão 3\n",
    "\n",
    "Se codificarmos as variáveis `Region` e `Climate` usando _one-hot encoding_, quantos novos atributos seriam criados? Responda como um único escalar."
   ]
  },
  {
   "cell_type": "code",
   "execution_count": 11,
   "metadata": {},
   "outputs": [
    {
     "data": {
      "text/plain": [
       "18"
      ]
     },
     "execution_count": 11,
     "metadata": {},
     "output_type": "execute_result"
    }
   ],
   "source": [
    "def q3():\n",
    "    regioes = np.sort(countries['Region'].unique())\n",
    "    valor = len(regioes)\n",
    "    clima = countries['Climate'].unique()\n",
    "    valor += len(clima)\n",
    "    return valor\n",
    "\n",
    "q3()"
   ]
  },
  {
   "cell_type": "code",
   "execution_count": 12,
   "metadata": {},
   "outputs": [],
   "source": [
    "copia_country = countries.copy()"
   ]
  },
  {
   "cell_type": "code",
   "execution_count": 13,
   "metadata": {},
   "outputs": [
    {
     "data": {
      "text/plain": [
       "Index(['Population', 'Area', 'Pop_density', 'Coastline_ratio', 'Net_migration',\n",
       "       'Infant_mortality', 'GDP', 'Literacy', 'Phones_per_1000', 'Arable',\n",
       "       'Crops', 'Other', 'Birthrate', 'Deathrate', 'Agriculture', 'Industry',\n",
       "       'Service'],\n",
       "      dtype='object')"
      ]
     },
     "execution_count": 13,
     "metadata": {},
     "output_type": "execute_result"
    }
   ],
   "source": [
    "numeric_features = copia_country.select_dtypes(include=[np.number])\n",
    "\n",
    "numeric_features.columns"
   ]
  },
  {
   "cell_type": "code",
   "execution_count": 14,
   "metadata": {},
   "outputs": [],
   "source": [
    "for variavel in numeric_features:\n",
    "    copia_country.fillna(copia_country[variavel].mean(), inplace=True)"
   ]
  },
  {
   "cell_type": "code",
   "execution_count": 15,
   "metadata": {
    "scrolled": true
   },
   "outputs": [
    {
     "name": "stdout",
     "output_type": "stream",
     "text": [
      "<class 'pandas.core.frame.DataFrame'>\n",
      "RangeIndex: 227 entries, 0 to 226\n",
      "Data columns (total 20 columns):\n",
      "Country             227 non-null object\n",
      "Region              227 non-null object\n",
      "Population          227 non-null int64\n",
      "Area                227 non-null int64\n",
      "Pop_density         227 non-null float64\n",
      "Coastline_ratio     227 non-null float64\n",
      "Net_migration       227 non-null float64\n",
      "Infant_mortality    227 non-null float64\n",
      "GDP                 227 non-null float64\n",
      "Literacy            227 non-null float64\n",
      "Phones_per_1000     227 non-null float64\n",
      "Arable              227 non-null float64\n",
      "Crops               227 non-null float64\n",
      "Other               227 non-null float64\n",
      "Climate             227 non-null object\n",
      "Birthrate           227 non-null float64\n",
      "Deathrate           227 non-null float64\n",
      "Agriculture         227 non-null float64\n",
      "Industry            227 non-null float64\n",
      "Service             227 non-null float64\n",
      "dtypes: float64(15), int64(2), object(3)\n",
      "memory usage: 35.5+ KB\n"
     ]
    }
   ],
   "source": [
    "copia_country.info()"
   ]
  },
  {
   "cell_type": "code",
   "execution_count": 36,
   "metadata": {},
   "outputs": [],
   "source": [
    "standard_scaler = StandardScaler()"
   ]
  },
  {
   "cell_type": "code",
   "execution_count": 43,
   "metadata": {},
   "outputs": [],
   "source": [
    "copia =copia_country[[\"Arable\"]]"
   ]
  },
  {
   "cell_type": "code",
   "execution_count": null,
   "metadata": {},
   "outputs": [],
   "source": []
  },
  {
   "cell_type": "code",
   "execution_count": 41,
   "metadata": {},
   "outputs": [
    {
     "data": {
      "text/plain": [
       "array([[-0.09428152],\n",
       "       [-0.09427819],\n",
       "       [-0.09428484],\n",
       "       [-0.09428232],\n",
       "       [-0.09428521],\n",
       "       [-0.09428514],\n",
       "       [-0.09428604],\n",
       "       [-0.09427927],\n",
       "       [-0.09428146],\n",
       "       [-0.09427951],\n",
       "       [-0.09428212],\n",
       "       [-0.0942836 ],\n",
       "       [-0.09427975],\n",
       "       [-0.09427873],\n",
       "       [-0.09428574],\n",
       "       [-0.09428499],\n",
       "       [-0.09426292],\n",
       "       [-0.09427219],\n",
       "       [-0.09427504],\n",
       "       [-0.09427737],\n",
       "       [-0.09428498],\n",
       "       [-0.09427931],\n",
       "       [-0.09427859],\n",
       "       [-0.09428489],\n",
       "       [-0.09428505],\n",
       "       [-0.09428098],\n",
       "       [-0.0942858 ],\n",
       "       [-0.09428345],\n",
       "       [-0.09427859],\n",
       "       [-0.09428583],\n",
       "       [-0.09427114],\n",
       "       [-0.09428067],\n",
       "       [-0.09428039],\n",
       "       [-0.09427299],\n",
       "       [-0.09427824],\n",
       "       [-0.09428127],\n",
       "       [-0.09428419],\n",
       "       [-0.09428244],\n",
       "       [-0.09428461],\n",
       "       [-0.09428489],\n",
       "       [-0.09428498],\n",
       "       [-0.09428505],\n",
       "       [-0.09428031],\n",
       "       [-0.09428514],\n",
       "       [-0.09427269],\n",
       "       [-0.09428494],\n",
       "       [-0.09428585],\n",
       "       [-0.09427957],\n",
       "       [-0.0942844 ],\n",
       "       [-0.09428241],\n",
       "       [-0.09427633],\n",
       "       [-0.09427374],\n",
       "       [-0.09428314],\n",
       "       [-0.09427122],\n",
       "       [-0.09426593],\n",
       "       [-0.09428603],\n",
       "       [-0.09428356],\n",
       "       [-0.09427761],\n",
       "       [-0.09428429],\n",
       "       [-0.09428386],\n",
       "       [-0.09428497],\n",
       "       [-0.09427418],\n",
       "       [-0.09428432],\n",
       "       [-0.0942842 ],\n",
       "       [-0.09428007],\n",
       "       [-0.09428205],\n",
       "       [-0.09428524],\n",
       "       [-0.09428196],\n",
       "       [-0.09428336],\n",
       "       [-0.09427356],\n",
       "       [-0.09428599],\n",
       "       [-0.09428574],\n",
       "       [-0.09428557],\n",
       "       [-0.09427673],\n",
       "       [-0.09427526],\n",
       "       [-0.09428178],\n",
       "       [-0.09427344],\n",
       "       [-0.09427999],\n",
       "       [-0.09428604],\n",
       "       [-0.09427819],\n",
       "       [-0.09428604],\n",
       "       [-0.09428385],\n",
       "       [-0.09428186],\n",
       "       [-0.09428266],\n",
       "       [-0.09428137],\n",
       "       [10.60660172],\n",
       "       [-0.09428469],\n",
       "       [-0.09428207],\n",
       "       [-0.09428513],\n",
       "       [-0.0942755 ],\n",
       "       [-0.09428249],\n",
       "       [-0.09428416],\n",
       "       [-0.09426739],\n",
       "       [-0.09428602],\n",
       "       [-0.09426579],\n",
       "       [-0.09428183],\n",
       "       [-0.09428279],\n",
       "       [-0.09428115],\n",
       "       [-0.09428038],\n",
       "       [-0.09428269],\n",
       "       [-0.09427994],\n",
       "       [-0.09427569],\n",
       "       [-0.09428006],\n",
       "       [-0.0942815 ],\n",
       "       [-0.09428604],\n",
       "       [-0.09428505],\n",
       "       [-0.09428307],\n",
       "       [-0.09428303],\n",
       "       [-0.09428502],\n",
       "       [-0.09427831],\n",
       "       [-0.09427964],\n",
       "       [-0.09428577],\n",
       "       [-0.09428332],\n",
       "       [-0.09428463],\n",
       "       [-0.09427499],\n",
       "       [-0.09427985],\n",
       "       [-0.09428199],\n",
       "       [-0.09428457],\n",
       "       [-0.09428566],\n",
       "       [-0.09427673],\n",
       "       [-0.0942692 ],\n",
       "       [-0.09427737],\n",
       "       [-0.09428604],\n",
       "       [-0.09427775],\n",
       "       [-0.09428415],\n",
       "       [-0.09427734],\n",
       "       [-0.094284  ],\n",
       "       [-0.09428108],\n",
       "       [-0.09428462],\n",
       "       [-0.09427557],\n",
       "       [-0.09427983],\n",
       "       [-0.09428218],\n",
       "       [-0.09428586],\n",
       "       [-0.0942677 ],\n",
       "       [10.60660172],\n",
       "       [-0.0942812 ],\n",
       "       [-0.09428392],\n",
       "       [-0.09426545],\n",
       "       [-0.09428604],\n",
       "       [-0.09428575],\n",
       "       [-0.09427859],\n",
       "       [-0.09427874],\n",
       "       [-0.09428414],\n",
       "       [-0.09428567],\n",
       "       [-0.09428604],\n",
       "       [-0.09427797],\n",
       "       [-0.0942761 ],\n",
       "       [-0.09428232],\n",
       "       [-0.0942859 ],\n",
       "       [-0.09428396],\n",
       "       [-0.09428011],\n",
       "       [-0.09428472],\n",
       "       [-0.09427439],\n",
       "       [-0.09428119],\n",
       "       [-0.09428497],\n",
       "       [-0.09428604],\n",
       "       [-0.09427566],\n",
       "       [-0.0942828 ],\n",
       "       [-0.0942833 ],\n",
       "       [-0.09428587],\n",
       "       [-0.09428321],\n",
       "       [-0.09428497],\n",
       "       [-0.09427899],\n",
       "       [-0.09426895],\n",
       "       [-0.09427794],\n",
       "       [-0.09428457],\n",
       "       [-0.09428543],\n",
       "       [-0.09428098],\n",
       "       [-0.09427084],\n",
       "       [-0.09428331],\n",
       "       [-0.09427095],\n",
       "       [-0.09428124],\n",
       "       [-0.0942788 ],\n",
       "       [-0.0942836 ],\n",
       "       [-0.09428119],\n",
       "       [-0.09427936],\n",
       "       [-0.09427815],\n",
       "       [-0.09427983],\n",
       "       [-0.09428371],\n",
       "       [-0.09428542],\n",
       "       [-0.09428128],\n",
       "       [-0.09427362],\n",
       "       [-0.09428521],\n",
       "       [-0.09428344],\n",
       "       [-0.09428543],\n",
       "       [-0.09427481],\n",
       "       [-0.09428284],\n",
       "       [-0.0942858 ],\n",
       "       [-0.09428542],\n",
       "       [-0.09428154],\n",
       "       [-0.09427633],\n",
       "       [-0.09428088],\n",
       "       [-0.0942835 ],\n",
       "       [-0.0942859 ],\n",
       "       [-0.09428219],\n",
       "       [-0.09428361],\n",
       "       [-0.09428216],\n",
       "       [-0.09427665],\n",
       "       [-0.09427711],\n",
       "       [-0.09428358],\n",
       "       [-0.09428436],\n",
       "       [-0.09427511],\n",
       "       [-0.09426886],\n",
       "       [-0.09427725],\n",
       "       [-0.0942806 ],\n",
       "       [-0.09427939],\n",
       "       [-0.09427453],\n",
       "       [-0.09428466],\n",
       "       [-0.09428517],\n",
       "       [-0.09428604],\n",
       "       [-0.09427641],\n",
       "       [-0.09426511],\n",
       "       [-0.09428582],\n",
       "       [-0.09427731],\n",
       "       [-0.09427892],\n",
       "       [-0.09428327],\n",
       "       [-0.09428201],\n",
       "       [-0.09428513],\n",
       "       [-0.09428494],\n",
       "       [-0.09427861],\n",
       "       [-0.09428166],\n",
       "       [-0.09428418],\n",
       "       [-0.09427975],\n",
       "       [-0.09428603],\n",
       "       [-0.09428501],\n",
       "       [-0.09428341],\n",
       "       [-0.09428294]])"
      ]
     },
     "execution_count": 41,
     "metadata": {},
     "output_type": "execute_result"
    }
   ],
   "source": [
    "standard_scaler.fit(copia_country[[\"Arable\"]])\n",
    "\n",
    "score_standardized = standard_scaler.transform(copia_country[[\"Arable\"]])\n",
    "\n",
    "score_standardized"
   ]
  },
  {
   "cell_type": "code",
   "execution_count": 46,
   "metadata": {},
   "outputs": [
    {
     "data": {
      "text/plain": [
       "array([[-0.09428152],\n",
       "       [-0.09427819],\n",
       "       [-0.09428484],\n",
       "       [-0.09428232],\n",
       "       [-0.09428521],\n",
       "       [-0.09428514],\n",
       "       [-0.09428604],\n",
       "       [-0.09427927],\n",
       "       [-0.09428146],\n",
       "       [-0.09427951]])"
      ]
     },
     "execution_count": 46,
     "metadata": {},
     "output_type": "execute_result"
    }
   ],
   "source": [
    "pipeline_transformation = num_pipeline.fit_transform(copia_country[[\"Arable\"]])\n",
    "\n",
    "pipeline_transformation[:10]"
   ]
  },
  {
   "cell_type": "code",
   "execution_count": 18,
   "metadata": {},
   "outputs": [
    {
     "data": {
      "text/plain": [
       "(227, 20)"
      ]
     },
     "execution_count": 18,
     "metadata": {},
     "output_type": "execute_result"
    }
   ],
   "source": [
    "countries.shape"
   ]
  },
  {
   "cell_type": "code",
   "execution_count": 47,
   "metadata": {},
   "outputs": [],
   "source": [
    "\n",
    "num_pipeline = Pipeline(steps=[\n",
    "    (\"imputer\", SimpleImputer(strategy=\"median\")),\n",
    "    ('scale', StandardScaler())\n",
    "])"
   ]
  },
  {
   "cell_type": "code",
   "execution_count": 48,
   "metadata": {},
   "outputs": [
    {
     "data": {
      "text/plain": [
       "Index(['Population', 'Area', 'Pop_density', 'Coastline_ratio', 'Net_migration',\n",
       "       'Infant_mortality', 'GDP', 'Literacy', 'Phones_per_1000', 'Arable',\n",
       "       'Crops', 'Other', 'Birthrate', 'Deathrate', 'Agriculture', 'Industry',\n",
       "       'Service'],\n",
       "      dtype='object')"
      ]
     },
     "execution_count": 48,
     "metadata": {},
     "output_type": "execute_result"
    }
   ],
   "source": [
    "numeric_features = copia_country.select_dtypes(include=[np.number])\n",
    "\n",
    "numeric_features.columns"
   ]
  },
  {
   "cell_type": "code",
   "execution_count": 49,
   "metadata": {},
   "outputs": [
    {
     "name": "stdout",
     "output_type": "stream",
     "text": [
      "<class 'pandas.core.frame.DataFrame'>\n",
      "RangeIndex: 227 entries, 0 to 226\n",
      "Data columns (total 20 columns):\n",
      "Country             227 non-null object\n",
      "Region              227 non-null object\n",
      "Population          227 non-null int64\n",
      "Area                227 non-null int64\n",
      "Pop_density         227 non-null float64\n",
      "Coastline_ratio     227 non-null float64\n",
      "Net_migration       224 non-null float64\n",
      "Infant_mortality    224 non-null float64\n",
      "GDP                 226 non-null float64\n",
      "Literacy            209 non-null float64\n",
      "Phones_per_1000     223 non-null float64\n",
      "Arable              225 non-null float64\n",
      "Crops               225 non-null float64\n",
      "Other               225 non-null float64\n",
      "Climate             205 non-null object\n",
      "Birthrate           224 non-null float64\n",
      "Deathrate           223 non-null float64\n",
      "Agriculture         212 non-null float64\n",
      "Industry            211 non-null float64\n",
      "Service             212 non-null float64\n",
      "dtypes: float64(15), int64(2), object(3)\n",
      "memory usage: 35.5+ KB\n"
     ]
    }
   ],
   "source": [
    "countries.info()"
   ]
  },
  {
   "cell_type": "code",
   "execution_count": 50,
   "metadata": {},
   "outputs": [
    {
     "data": {
      "text/plain": [
       "array([[ 0.01969468,  0.02758332, -0.19984434, -0.29344342,  4.75079803,\n",
       "         3.6380982 , -0.89639423, -2.49781686, -1.02749132, -0.12636082,\n",
       "        -0.51886111,  0.37260169,  2.21296666,  2.2525074 ,  1.63657562,\n",
       "        -0.31540576, -1.1611354 ]])"
      ]
     },
     "execution_count": 50,
     "metadata": {},
     "output_type": "execute_result"
    }
   ],
   "source": [
    "pipeline_transformation = num_pipeline.fit_transform(countries[numeric_features.columns])\n",
    "\n",
    "pipeline_transformation[:1]"
   ]
  },
  {
   "cell_type": "code",
   "execution_count": 51,
   "metadata": {
    "scrolled": true
   },
   "outputs": [
    {
     "data": {
      "text/plain": [
       "array([[ 0.01969468,  0.02758332, -0.19984434, -0.29344342, -0.1157205 ,\n",
       "        -0.11568865, -0.07124277, -0.29347562, -0.13399149, -0.09428152,\n",
       "        -0.09428252, -0.09427867, -0.11572005, -0.13392697, -0.26599756,\n",
       "        -0.27537136, -0.26599761]])"
      ]
     },
     "execution_count": 51,
     "metadata": {},
     "output_type": "execute_result"
    }
   ],
   "source": [
    "pipeline_transformation = num_pipeline.fit_transform(copia_country[numeric_features.columns])\n",
    "\n",
    "pipeline_transformation[:1]"
   ]
  },
  {
   "cell_type": "code",
   "execution_count": 24,
   "metadata": {},
   "outputs": [
    {
     "data": {
      "text/plain": [
       "pandas.core.frame.DataFrame"
      ]
     },
     "execution_count": 24,
     "metadata": {},
     "output_type": "execute_result"
    }
   ],
   "source": [
    "type(numeric_features)"
   ]
  },
  {
   "cell_type": "markdown",
   "metadata": {},
   "source": [
    "## Questão 4\n",
    "\n",
    "Aplique o seguinte _pipeline_:\n",
    "\n",
    "1. Preencha as variáveis do tipo `int64` e `float64` com suas respectivas medianas.\n",
    "2. Padronize essas variáveis.\n",
    "\n",
    "Após aplicado o _pipeline_ descrito acima aos dados (somente nas variáveis dos tipos especificados), aplique o mesmo _pipeline_ (ou `ColumnTransformer`) ao dado abaixo. Qual o valor da variável `Arable` após o _pipeline_? Responda como um único float arredondado para três casas decimais."
   ]
  },
  {
   "cell_type": "code",
   "execution_count": 25,
   "metadata": {},
   "outputs": [],
   "source": [
    "test_country = [\n",
    "    'Test Country', 'NEAR EAST', -0.19032480757326514,\n",
    "    -0.3232636124824411, -0.04421734470810142, -0.27528113360605316,\n",
    "    0.13255850810281325, -0.8054845935643491, 1.0119784924248225,\n",
    "    0.6189182532646624, 1.0074863283776458, 0.20239896852403538,\n",
    "    -0.043678728558593366, -0.13929748680369286, 1.3163604645710438,\n",
    "    -0.3699637766938669, -0.6149300604558857, -0.854369594993175,\n",
    "    0.263445277972641, 0.5712416961268142\n",
    "]"
   ]
  },
  {
   "cell_type": "code",
   "execution_count": 26,
   "metadata": {},
   "outputs": [],
   "source": [
    "teste = pd.DataFrame(test_country).T"
   ]
  },
  {
   "cell_type": "code",
   "execution_count": 27,
   "metadata": {},
   "outputs": [],
   "source": [
    "teste = teste.drop(teste.columns[[0, 1]], axis=1)"
   ]
  },
  {
   "cell_type": "code",
   "execution_count": 28,
   "metadata": {},
   "outputs": [
    {
     "data": {
      "text/html": [
       "<div>\n",
       "<style scoped>\n",
       "    .dataframe tbody tr th:only-of-type {\n",
       "        vertical-align: middle;\n",
       "    }\n",
       "\n",
       "    .dataframe tbody tr th {\n",
       "        vertical-align: top;\n",
       "    }\n",
       "\n",
       "    .dataframe thead th {\n",
       "        text-align: right;\n",
       "    }\n",
       "</style>\n",
       "<table border=\"1\" class=\"dataframe\">\n",
       "  <thead>\n",
       "    <tr style=\"text-align: right;\">\n",
       "      <th></th>\n",
       "      <th>2</th>\n",
       "      <th>3</th>\n",
       "      <th>4</th>\n",
       "      <th>5</th>\n",
       "      <th>6</th>\n",
       "      <th>7</th>\n",
       "      <th>8</th>\n",
       "      <th>9</th>\n",
       "      <th>10</th>\n",
       "      <th>11</th>\n",
       "      <th>12</th>\n",
       "      <th>13</th>\n",
       "      <th>14</th>\n",
       "      <th>15</th>\n",
       "      <th>16</th>\n",
       "      <th>17</th>\n",
       "      <th>18</th>\n",
       "      <th>19</th>\n",
       "    </tr>\n",
       "  </thead>\n",
       "  <tbody>\n",
       "    <tr>\n",
       "      <th>0</th>\n",
       "      <td>-0.190325</td>\n",
       "      <td>-0.323264</td>\n",
       "      <td>-0.0442173</td>\n",
       "      <td>-0.275281</td>\n",
       "      <td>0.132559</td>\n",
       "      <td>-0.805485</td>\n",
       "      <td>1.01198</td>\n",
       "      <td>0.618918</td>\n",
       "      <td>1.00749</td>\n",
       "      <td>0.202399</td>\n",
       "      <td>-0.0436787</td>\n",
       "      <td>-0.139297</td>\n",
       "      <td>1.31636</td>\n",
       "      <td>-0.369964</td>\n",
       "      <td>-0.61493</td>\n",
       "      <td>-0.85437</td>\n",
       "      <td>0.263445</td>\n",
       "      <td>0.571242</td>\n",
       "    </tr>\n",
       "  </tbody>\n",
       "</table>\n",
       "</div>"
      ],
      "text/plain": [
       "         2         3          4         5         6         7        8   \\\n",
       "0 -0.190325 -0.323264 -0.0442173 -0.275281  0.132559 -0.805485  1.01198   \n",
       "\n",
       "         9        10        11         12        13       14        15  \\\n",
       "0  0.618918  1.00749  0.202399 -0.0436787 -0.139297  1.31636 -0.369964   \n",
       "\n",
       "        16       17        18        19  \n",
       "0 -0.61493 -0.85437  0.263445  0.571242  "
      ]
     },
     "execution_count": 28,
     "metadata": {},
     "output_type": "execute_result"
    }
   ],
   "source": [
    "teste.head()"
   ]
  },
  {
   "cell_type": "code",
   "execution_count": 29,
   "metadata": {
    "scrolled": true
   },
   "outputs": [],
   "source": [
    "pipeline_transformation = num_pipeline.fit_transform(teste)\n"
   ]
  },
  {
   "cell_type": "code",
   "execution_count": 30,
   "metadata": {},
   "outputs": [
    {
     "data": {
      "text/plain": [
       "array([[0., 0., 0., 0., 0., 0., 0., 0., 0., 0., 0., 0., 0., 0., 0., 0.,\n",
       "        0., 0.]])"
      ]
     },
     "execution_count": 30,
     "metadata": {},
     "output_type": "execute_result"
    }
   ],
   "source": [
    "pipeline_transformation"
   ]
  },
  {
   "cell_type": "code",
   "execution_count": 31,
   "metadata": {},
   "outputs": [
    {
     "data": {
      "text/plain": [
       "0.202"
      ]
     },
     "execution_count": 31,
     "metadata": {},
     "output_type": "execute_result"
    }
   ],
   "source": [
    "def q4():\n",
    "    return round(test_country[11], 3)\n",
    "\n",
    "q4()"
   ]
  },
  {
   "cell_type": "markdown",
   "metadata": {},
   "source": [
    "-1.047"
   ]
  },
  {
   "cell_type": "markdown",
   "metadata": {},
   "source": [
    "## Questão 5\n",
    "\n",
    "Descubra o número de _outliers_ da variável `Net_migration` segundo o método do _boxplot_, ou seja, usando a lógica:\n",
    "\n",
    "$$x \\notin [Q1 - 1.5 \\times \\text{IQR}, Q3 + 1.5 \\times \\text{IQR}] \\Rightarrow x \\text{ é outlier}$$\n",
    "\n",
    "que se encontram no grupo inferior e no grupo superior.\n",
    "\n",
    "Você deveria remover da análise as observações consideradas _outliers_ segundo esse método? Responda como uma tupla de três elementos `(outliers_abaixo, outliers_acima, removeria?)` ((int, int, bool))."
   ]
  },
  {
   "cell_type": "code",
   "execution_count": 32,
   "metadata": {},
   "outputs": [
    {
     "data": {
      "text/plain": [
       "(24, 26, False)"
      ]
     },
     "execution_count": 32,
     "metadata": {},
     "output_type": "execute_result"
    }
   ],
   "source": [
    "def q5():\n",
    "    net = countries['Net_migration']\n",
    "    \n",
    "    q1 = net.quantile(0.25)\n",
    "    q3 = net.quantile(0.75)\n",
    "    iqr = q3 - q1\n",
    "    fora_intervalo = [q1 - 1.5 * iqr, q3 + 1.5 * iqr]\n",
    "    \n",
    "    outliers_abaixo = net[(net < fora_intervalo[0])]\n",
    "    outliers_acima = net[(net > fora_intervalo[1])]\n",
    "    \n",
    "    return (len(outliers_abaixo), len(outliers_acima), False)\n",
    "\n",
    "q5()"
   ]
  },
  {
   "cell_type": "code",
   "execution_count": 33,
   "metadata": {},
   "outputs": [],
   "source": [
    "categories = ['sci.electronics', 'comp.graphics', 'rec.motorcycles']\n",
    "newsgroup = fetch_20newsgroups(subset=\"train\", categories=categories, shuffle=True, random_state=42)"
   ]
  },
  {
   "cell_type": "markdown",
   "metadata": {},
   "source": [
    "## Questão 6\n",
    "Para as questões 6 e 7 utilize a biblioteca `fetch_20newsgroups` de datasets de test do `sklearn`\n",
    "\n",
    "Considere carregar as seguintes categorias e o dataset `newsgroups`:\n",
    "\n",
    "```\n",
    "categories = ['sci.electronics', 'comp.graphics', 'rec.motorcycles']\n",
    "newsgroup = fetch_20newsgroups(subset=\"train\", categories=categories, shuffle=True, random_state=42)\n",
    "```\n",
    "\n",
    "\n",
    "Aplique `CountVectorizer` ao _data set_ `newsgroups` e descubra o número de vezes que a palavra _phone_ aparece no corpus. Responda como um único escalar."
   ]
  },
  {
   "cell_type": "code",
   "execution_count": 34,
   "metadata": {},
   "outputs": [
    {
     "data": {
      "text/plain": [
       "213"
      ]
     },
     "execution_count": 34,
     "metadata": {},
     "output_type": "execute_result"
    }
   ],
   "source": [
    "def q6():\n",
    "    count_vectorizer = CountVectorizer()\n",
    "    newsgroups_counts = count_vectorizer.fit_transform(newsgroup.data)\n",
    "    words_idx = sorted([count_vectorizer.vocabulary_.get(f\"{word.lower()}\") for word in [u\"phone\"]])\n",
    "\n",
    "    telefone = pd.DataFrame(newsgroups_counts[:, words_idx].toarray(), \n",
    "                            columns=np.array(count_vectorizer.get_feature_names())[words_idx])\n",
    "    \n",
    "    return int(telefone.sum())\n",
    "    \n",
    "q6()"
   ]
  },
  {
   "cell_type": "markdown",
   "metadata": {},
   "source": [
    "213"
   ]
  },
  {
   "cell_type": "markdown",
   "metadata": {},
   "source": [
    "## Questão 7\n",
    "\n",
    "Aplique `TfidfVectorizer` ao _data set_ `newsgroups` e descubra o TF-IDF da palavra _phone_. Responda como um único escalar arredondado para três casas decimais."
   ]
  },
  {
   "cell_type": "code",
   "execution_count": 35,
   "metadata": {},
   "outputs": [
    {
     "ename": "NameError",
     "evalue": "name 'words_idx' is not defined",
     "output_type": "error",
     "traceback": [
      "\u001b[0;31m---------------------------------------------------------------------------\u001b[0m",
      "\u001b[0;31mNameError\u001b[0m                                 Traceback (most recent call last)",
      "\u001b[0;32m<ipython-input-35-8186c874a7c9>\u001b[0m in \u001b[0;36m<module>\u001b[0;34m\u001b[0m\n\u001b[1;32m      7\u001b[0m              columns=np.array(count_vectorizer.get_feature_names())[words_idx])\n\u001b[1;32m      8\u001b[0m     \u001b[0;32mreturn\u001b[0m \u001b[0mfloat\u001b[0m\u001b[0;34m(\u001b[0m\u001b[0mround\u001b[0m\u001b[0;34m(\u001b[0m\u001b[0mresposta\u001b[0m\u001b[0;34m.\u001b[0m\u001b[0msum\u001b[0m\u001b[0;34m(\u001b[0m\u001b[0;34m)\u001b[0m\u001b[0;34m,\u001b[0m \u001b[0;36m3\u001b[0m\u001b[0;34m)\u001b[0m\u001b[0;34m)\u001b[0m\u001b[0;34m\u001b[0m\u001b[0;34m\u001b[0m\u001b[0m\n\u001b[0;32m----> 9\u001b[0;31m \u001b[0mq7\u001b[0m\u001b[0;34m(\u001b[0m\u001b[0;34m)\u001b[0m\u001b[0;34m\u001b[0m\u001b[0;34m\u001b[0m\u001b[0m\n\u001b[0m",
      "\u001b[0;32m<ipython-input-35-8186c874a7c9>\u001b[0m in \u001b[0;36mq7\u001b[0;34m()\u001b[0m\n\u001b[1;32m      4\u001b[0m \u001b[0;34m\u001b[0m\u001b[0m\n\u001b[1;32m      5\u001b[0m     \u001b[0mnewsgroups_tfidf_vectorized\u001b[0m \u001b[0;34m=\u001b[0m \u001b[0mtfidf_vectorizer\u001b[0m\u001b[0;34m.\u001b[0m\u001b[0mtransform\u001b[0m\u001b[0;34m(\u001b[0m\u001b[0mnewsgroup\u001b[0m\u001b[0;34m.\u001b[0m\u001b[0mdata\u001b[0m\u001b[0;34m)\u001b[0m\u001b[0;34m\u001b[0m\u001b[0;34m\u001b[0m\u001b[0m\n\u001b[0;32m----> 6\u001b[0;31m     resposta = pd.DataFrame(newsgroups_tfidf_vectorized[:, words_idx].toarray(), \n\u001b[0m\u001b[1;32m      7\u001b[0m              columns=np.array(count_vectorizer.get_feature_names())[words_idx])\n\u001b[1;32m      8\u001b[0m     \u001b[0;32mreturn\u001b[0m \u001b[0mfloat\u001b[0m\u001b[0;34m(\u001b[0m\u001b[0mround\u001b[0m\u001b[0;34m(\u001b[0m\u001b[0mresposta\u001b[0m\u001b[0;34m.\u001b[0m\u001b[0msum\u001b[0m\u001b[0;34m(\u001b[0m\u001b[0;34m)\u001b[0m\u001b[0;34m,\u001b[0m \u001b[0;36m3\u001b[0m\u001b[0;34m)\u001b[0m\u001b[0;34m)\u001b[0m\u001b[0;34m\u001b[0m\u001b[0;34m\u001b[0m\u001b[0m\n",
      "\u001b[0;31mNameError\u001b[0m: name 'words_idx' is not defined"
     ]
    }
   ],
   "source": [
    "def q7():\n",
    "    tfidf_vectorizer = TfidfVectorizer()\n",
    "    tfidf_vectorizer.fit(newsgroup.data)\n",
    "\n",
    "    newsgroups_tfidf_vectorized = tfidf_vectorizer.transform(newsgroup.data)\n",
    "    resposta = pd.DataFrame(newsgroups_tfidf_vectorized[:, words_idx].toarray(), \n",
    "             columns=np.array(count_vectorizer.get_feature_names())[words_idx])\n",
    "    return float(round(resposta.sum(), 3))\n",
    "q7()"
   ]
  },
  {
   "cell_type": "markdown",
   "metadata": {},
   "source": [
    "8.888"
   ]
  },
  {
   "cell_type": "code",
   "execution_count": null,
   "metadata": {},
   "outputs": [],
   "source": []
  }
 ],
 "metadata": {
  "kernelspec": {
   "display_name": "Python 3",
   "language": "python",
   "name": "python3"
  },
  "language_info": {
   "codemirror_mode": {
    "name": "ipython",
    "version": 3
   },
   "file_extension": ".py",
   "mimetype": "text/x-python",
   "name": "python",
   "nbconvert_exporter": "python",
   "pygments_lexer": "ipython3",
   "version": "3.7.3"
  }
 },
 "nbformat": 4,
 "nbformat_minor": 2
}
